{
 "cells": [
  {
   "cell_type": "code",
   "execution_count": 2,
   "metadata": {},
   "outputs": [],
   "source": [
    "import sys\n",
    "import os\n",
    "\n",
    "sys.path.append(os.path.abspath('..'))\n",
    "\n",
    "\n",
    "from simulation import params_test_food_growth, state_base, create_sites\n",
    "\n",
    "from math_spec_mapping import load_from_json\n",
    "\n",
    "\"\"\"# For development purposes\n",
    "sys.path.append(os.path.abspath('../..'))\n",
    "from MSML.src.math_spec_mapping import (load_from_json)\"\"\"\n",
    "\n",
    "from copy import deepcopy\n",
    "from src import math_spec_json\n",
    "\n",
    "ms = load_from_json(deepcopy(math_spec_json))\n",
    "\n",
    "msi = ms.build_implementation(params_test_food_growth)"
   ]
  },
  {
   "cell_type": "code",
   "execution_count": 4,
   "metadata": {},
   "outputs": [
    {
     "data": {
      "text/plain": [
       "{'Terminating Space': Terminating Space,\n",
       " 'Empty Space': Empty Space,\n",
       " 'Locations Space': Locations Space,\n",
       " 'Location Food Delta Space': Location Food Delta Space,\n",
       " 'Agents Space': Agents Space,\n",
       " 'Agent Age Delta Space': Agent Age Delta Space,\n",
       " 'Agent Food Delta Space': Agent Food Delta Space,\n",
       " 'Agent Location Space': Agent Location Space,\n",
       " 'Timestep Space': Timestep Space,\n",
       " 'Simulation Log Space': Simulation Log Space}"
      ]
     },
     "execution_count": 4,
     "metadata": {},
     "output_type": "execute_result"
    }
   ],
   "source": [
    "ms.spaces"
   ]
  },
  {
   "cell_type": "code",
   "execution_count": 11,
   "metadata": {},
   "outputs": [
    {
     "name": "stdout",
     "output_type": "stream",
     "text": [
      "[Agent Age Delta Space, Agent Food Delta Space, Locations Space, Agent Location Space, Timestep Space, Simulation Log Space, Terminating Space, Empty Space, Location Food Delta Space, Agents Space]\n"
     ]
    }
   ],
   "source": [
    "all_spaces = []\n",
    "for x in ms.components.values():\n",
    "    all_spaces.extend(x.domain)\n",
    "    all_spaces.extend(x.codomain)\n",
    "all_spaces = list(set(all_spaces))\n",
    "print(all_spaces)"
   ]
  },
  {
   "cell_type": "code",
   "execution_count": 13,
   "metadata": {},
   "outputs": [
    {
     "data": {
      "text/plain": [
       "Agent Age Delta Space"
      ]
     },
     "execution_count": 13,
     "metadata": {},
     "output_type": "execute_result"
    }
   ],
   "source": [
    "all_spaces[0]"
   ]
  },
  {
   "cell_type": "code",
   "execution_count": 2,
   "metadata": {},
   "outputs": [
    {
     "ename": "AssertionError",
     "evalue": "",
     "output_type": "error",
     "traceback": [
      "\u001b[0;31m---------------------------------------------------------------------------\u001b[0m",
      "\u001b[0;31mAssertionError\u001b[0m                            Traceback (most recent call last)",
      "Cell \u001b[0;32mIn[2], line 10\u001b[0m\n\u001b[1;32m      5\u001b[0m \u001b[38;5;66;03m# Set the state and parameters\u001b[39;00m\n\u001b[1;32m      6\u001b[0m state, params \u001b[38;5;241m=\u001b[39m msi\u001b[38;5;241m.\u001b[39mprepare_state_and_params(state_base, params_test_food_growth,\n\u001b[1;32m      7\u001b[0m                                              state_preperation_functions\u001b[38;5;241m=\u001b[39m[create_sites],\n\u001b[1;32m      8\u001b[0m                                              parameter_preperation_functions\u001b[38;5;241m=\u001b[39m[])\n\u001b[0;32m---> 10\u001b[0m \u001b[38;5;28;01massert\u001b[39;00m state[\u001b[38;5;124m\"\u001b[39m\u001b[38;5;124mSites\u001b[39m\u001b[38;5;124m\"\u001b[39m] \u001b[38;5;241m==\u001b[39m [{\u001b[38;5;124m'\u001b[39m\u001b[38;5;124mLocation\u001b[39m\u001b[38;5;124m'\u001b[39m: (\u001b[38;5;241m0\u001b[39m, \u001b[38;5;241m0\u001b[39m), \u001b[38;5;124m'\u001b[39m\u001b[38;5;124mFood\u001b[39m\u001b[38;5;124m'\u001b[39m: \u001b[38;5;241m0\u001b[39m},\n\u001b[1;32m     11\u001b[0m   {\u001b[38;5;124m'\u001b[39m\u001b[38;5;124mLocation\u001b[39m\u001b[38;5;124m'\u001b[39m: (\u001b[38;5;241m0\u001b[39m, \u001b[38;5;241m1\u001b[39m), \u001b[38;5;124m'\u001b[39m\u001b[38;5;124mFood\u001b[39m\u001b[38;5;124m'\u001b[39m: \u001b[38;5;241m0\u001b[39m},\n\u001b[1;32m     12\u001b[0m   {\u001b[38;5;124m'\u001b[39m\u001b[38;5;124mLocation\u001b[39m\u001b[38;5;124m'\u001b[39m: (\u001b[38;5;241m1\u001b[39m, \u001b[38;5;241m0\u001b[39m), \u001b[38;5;124m'\u001b[39m\u001b[38;5;124mFood\u001b[39m\u001b[38;5;124m'\u001b[39m: \u001b[38;5;241m0\u001b[39m},\n\u001b[1;32m     13\u001b[0m   {\u001b[38;5;124m'\u001b[39m\u001b[38;5;124mLocation\u001b[39m\u001b[38;5;124m'\u001b[39m: (\u001b[38;5;241m1\u001b[39m, \u001b[38;5;241m1\u001b[39m), \u001b[38;5;124m'\u001b[39m\u001b[38;5;124mFood\u001b[39m\u001b[38;5;124m'\u001b[39m: \u001b[38;5;241m0\u001b[39m}]\n\u001b[1;32m     14\u001b[0m spaces \u001b[38;5;241m=\u001b[39m []\n\u001b[1;32m     15\u001b[0m spaces \u001b[38;5;241m=\u001b[39m msi\u001b[38;5;241m.\u001b[39mcomponents[\u001b[38;5;124m\"\u001b[39m\u001b[38;5;124mFood Growth Control Action\u001b[39m\u001b[38;5;124m\"\u001b[39m](state, params, spaces)\n",
      "\u001b[0;31mAssertionError\u001b[0m: "
     ]
    }
   ],
   "source": [
    "# Set the randomness to ensure the same outcome each time from random parts\n",
    "from random import seed\n",
    "seed(1)\n",
    "\n",
    "# Set the state and parameters\n",
    "state, params = msi.prepare_state_and_params(state_base, params_test_food_growth,\n",
    "                                             state_preperation_functions=[create_sites],\n",
    "                                             parameter_preperation_functions=[])\n",
    "\n",
    "assert state[\"Sites\"] == [{'Location': (0, 0), 'Food': 0},\n",
    "  {'Location': (0, 1), 'Food': 0},\n",
    "  {'Location': (1, 0), 'Food': 0},\n",
    "  {'Location': (1, 1), 'Food': 0}]\n",
    "spaces = []\n",
    "spaces = msi.components[\"Food Growth Control Action\"](state, params, spaces)\n",
    "assert spaces == [{'Locations': [{'Location': (0, 0), 'Food': 0}, {'Location': (0, 1), 'Food': 0}, {'Location': (1, 0), 'Food': 0}, {'Location': (1, 1), 'Food': 0}]}]\n",
    "spaces = msi.components[\"Food Growth Policy\"](state, params, spaces)\n",
    "assert spaces == [{'Food Locations': [{'Location': (0, 0), 'Food': 1}, {'Location': (0, 1), 'Food': 1}, {'Location': (1, 0), 'Food': 1}, {'Location': (1, 1), 'Food': 1}]}]\n",
    "spaces = msi.components[\"Update Food Locations Mechanism\"](state, params, spaces)\n",
    "assert state[\"Sites\"] == [{'Location': (0, 0), 'Food': 1},\n",
    " {'Location': (0, 1), 'Food': 1},\n",
    " {'Location': (1, 0), 'Food': 1},\n",
    " {'Location': (1, 1), 'Food': 1}]"
   ]
  },
  {
   "cell_type": "code",
   "execution_count": 3,
   "metadata": {},
   "outputs": [],
   "source": [
    "# Set the randomness to ensure the same outcome each time from random parts\n",
    "from random import seed\n",
    "seed(1)\n",
    "\n",
    "# Set the state and parameters\n",
    "state, params = msi.prepare_state_and_params(state_base, params_test_food_growth,\n",
    "                                             state_preperation_functions=[create_sites],\n",
    "                                             parameter_preperation_functions=[])\n",
    "\n",
    "assert state[\"Sites\"] == [{'Location': (0, 0), 'Food': 0},\n",
    "  {'Location': (0, 1), 'Food': 0},\n",
    "  {'Location': (1, 0), 'Food': 0},\n",
    "  {'Location': (1, 1), 'Food': 0}]\n",
    "\n",
    "msi.wiring[\"Food Growth Wiring\"](state, params, [])\n",
    "assert state[\"Sites\"] == [{'Location': (0, 0), 'Food': 1},\n",
    " {'Location': (0, 1), 'Food': 1},\n",
    " {'Location': (1, 0), 'Food': 1},\n",
    " {'Location': (1, 1), 'Food': 1}]\n",
    "\n",
    "msi.wiring[\"Food Growth Wiring\"](state, params, [])\n",
    "assert state[\"Sites\"] == [{'Location': (0, 0), 'Food': 2},\n",
    " {'Location': (0, 1), 'Food': 2},\n",
    " {'Location': (1, 0), 'Food': 2},\n",
    " {'Location': (1, 1), 'Food': 2}]\n",
    "\n",
    "# Maximum should be hit now\n",
    "msi.wiring[\"Food Growth Wiring\"](state, params, [])\n",
    "assert state[\"Sites\"] == [{'Location': (0, 0), 'Food': 2},\n",
    " {'Location': (0, 1), 'Food': 2},\n",
    " {'Location': (1, 0), 'Food': 2},\n",
    " {'Location': (1, 1), 'Food': 2}]\n",
    "\n",
    "msi.wiring[\"Food Growth Wiring\"](state, params, [])\n",
    "assert state[\"Sites\"] == [{'Location': (0, 0), 'Food': 2},\n",
    " {'Location': (0, 1), 'Food': 2},\n",
    " {'Location': (1, 0), 'Food': 2},\n",
    " {'Location': (1, 1), 'Food': 2}]"
   ]
  }
 ],
 "metadata": {
  "kernelspec": {
   "display_name": "MSML",
   "language": "python",
   "name": "python3"
  },
  "language_info": {
   "codemirror_mode": {
    "name": "ipython",
    "version": 3
   },
   "file_extension": ".py",
   "mimetype": "text/x-python",
   "name": "python",
   "nbconvert_exporter": "python",
   "pygments_lexer": "ipython3",
   "version": "3.9.19"
  }
 },
 "nbformat": 4,
 "nbformat_minor": 2
}
