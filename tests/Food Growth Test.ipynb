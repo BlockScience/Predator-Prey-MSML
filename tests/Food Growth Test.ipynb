{
 "cells": [
  {
   "cell_type": "code",
   "execution_count": 1,
   "metadata": {},
   "outputs": [],
   "source": [
    "import sys\n",
    "import os\n",
    "\n",
    "sys.path.append(os.path.abspath('..'))\n",
    "\n",
    "\n",
    "from simulation import params_test_food_growth, state_base, create_sites\n",
    "\n",
    "from math_spec_mapping import load_from_json\n",
    "\n",
    "\"\"\"# For development purposes\n",
    "sys.path.append(os.path.abspath('../..'))\n",
    "from MSML.src.math_spec_mapping import (load_from_json)\"\"\"\n",
    "\n",
    "from copy import deepcopy\n",
    "from src import math_spec_json\n",
    "\n",
    "ms = load_from_json(deepcopy(math_spec_json))\n",
    "\n",
    "msi = ms.build_implementation(params_test_food_growth)"
   ]
  },
  {
   "cell_type": "code",
   "execution_count": 2,
   "metadata": {},
   "outputs": [
    {
     "name": "stdout",
     "output_type": "stream",
     "text": [
      "{'Location': (0, 0), 'Food': 0}\n",
      "{'Location': (0, 1), 'Food': 0}\n",
      "{'Location': (1, 0), 'Food': 0}\n",
      "{'Location': (1, 1), 'Food': 0}\n",
      "None\n"
     ]
    }
   ],
   "source": [
    "# Set the randomness to ensure the same outcome each time from random parts\n",
    "from random import seed\n",
    "seed(1)\n",
    "\n",
    "# Set the state and parameters\n",
    "state, params = msi.prepare_state_and_params(state_base, params_test_food_growth,\n",
    "                                             state_preperation_functions=[create_sites],\n",
    "                                             parameter_preperation_functions=[])\n",
    "\n",
    "assert state[\"Sites\"] == [{'Location': (0, 0), 'Food': 0},\n",
    "  {'Location': (0, 1), 'Food': 0},\n",
    "  {'Location': (1, 0), 'Food': 0},\n",
    "  {'Location': (1, 1), 'Food': 0}]\n",
    "spaces = []\n",
    "spaces = msi.components[\"Food Growth Control Action\"](state, params, spaces)\n",
    "assert spaces == [{'Locations': [{'Location': (0, 0), 'Food': 0}, {'Location': (0, 1), 'Food': 0}, {'Location': (1, 0), 'Food': 0}, {'Location': (1, 1), 'Food': 0}]}]\n",
    "spaces = msi.components[\"Food Growth Policy\"](state, params, spaces)\n",
    "print(spaces)"
   ]
  },
  {
   "cell_type": "code",
   "execution_count": 6,
   "metadata": {},
   "outputs": [],
   "source": []
  },
  {
   "cell_type": "code",
   "execution_count": null,
   "metadata": {},
   "outputs": [],
   "source": []
  },
  {
   "cell_type": "code",
   "execution_count": null,
   "metadata": {},
   "outputs": [],
   "source": []
  }
 ],
 "metadata": {
  "kernelspec": {
   "display_name": "MSML",
   "language": "python",
   "name": "python3"
  },
  "language_info": {
   "codemirror_mode": {
    "name": "ipython",
    "version": 3
   },
   "file_extension": ".py",
   "mimetype": "text/x-python",
   "name": "python",
   "nbconvert_exporter": "python",
   "pygments_lexer": "ipython3",
   "version": "3.9.19"
  }
 },
 "nbformat": 4,
 "nbformat_minor": 2
}
