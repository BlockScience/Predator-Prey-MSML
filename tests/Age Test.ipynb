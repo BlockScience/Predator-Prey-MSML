{
 "cells": [
  {
   "cell_type": "code",
   "execution_count": 1,
   "metadata": {},
   "outputs": [],
   "source": [
    "import sys\n",
    "import os\n",
    "\n",
    "sys.path.append(os.path.abspath('..'))\n",
    "\n",
    "\n",
    "from simulation import params_base, state_test_natural_death, create_sites\n",
    "\n",
    "from math_spec_mapping import load_from_json\n",
    "\n",
    "\"\"\"# For development purposes\n",
    "sys.path.append(os.path.abspath('../..'))\n",
    "from MSML.src.math_spec_mapping import (load_from_json)\"\"\"\n",
    "\n",
    "from copy import deepcopy\n",
    "from src import math_spec_json\n",
    "\n",
    "ms = load_from_json(deepcopy(math_spec_json))\n",
    "\n",
    "msi = ms.build_implementation(params_base)"
   ]
  },
  {
   "cell_type": "code",
   "execution_count": 2,
   "metadata": {},
   "outputs": [],
   "source": [
    "# Set the randomness to ensure the same outcome each time from random parts\n",
    "from random import seed\n",
    "seed(1)\n",
    "\n",
    "# Set the state and parameters\n",
    "state, params = msi.prepare_state_and_params(state_test_natural_death, params_base,\n",
    "                                             state_preperation_functions=[create_sites],\n",
    "                                             parameter_preperation_functions=[])\n",
    "assert state[\"Agents\"] == [{'Age': 5, 'Agent Type': 'Predator', 'Food': 10},\n",
    "  {'Age': 5, 'Agent Type': 'Predator', 'Food': 0},\n",
    "  {'Age': 10, 'Agent Type': 'Predator', 'Food': 10},\n",
    "  {'Age': 15, 'Agent Type': 'Predator', 'Food': 10}]\n",
    "spaces = msi.blocks[\"Increase Age Control Action\"](state, params, [])\n",
    "assert spaces == [{\"Agents\": [{'Age': 5, 'Agent Type': 'Predator', 'Food': 10},\n",
    " {'Age': 5, 'Agent Type': 'Predator', 'Food': 0},\n",
    " {'Age': 10, 'Agent Type': 'Predator', 'Food': 10},\n",
    " {'Age': 15, 'Agent Type': 'Predator', 'Food': 10}]}]\n",
    "spaces = msi.blocks[\"Increase Agent Age Policy\"](state, params, spaces)\n",
    "assert spaces == [{'Food Deltas': [{'Agent': {'Age': 5, 'Agent Type': 'Predator', 'Food': 10},\n",
    "    'Delta Food': -1},\n",
    "   {'Agent': {'Age': 5, 'Agent Type': 'Predator', 'Food': 0},\n",
    "    'Delta Food': -1},\n",
    "   {'Agent': {'Age': 10, 'Agent Type': 'Predator', 'Food': 10},\n",
    "    'Delta Food': -1},\n",
    "   {'Agent': {'Age': 15, 'Agent Type': 'Predator', 'Food': 10},\n",
    "    'Delta Food': -1}]},\n",
    " {'Age Deltas': [{'Agent': {'Age': 5, 'Agent Type': 'Predator', 'Food': 10},\n",
    "    'Delta Age': 1},\n",
    "   {'Agent': {'Age': 5, 'Agent Type': 'Predator', 'Food': 0}, 'Delta Age': 1},\n",
    "   {'Agent': {'Age': 10, 'Agent Type': 'Predator', 'Food': 10},\n",
    "    'Delta Age': 1},\n",
    "   {'Agent': {'Age': 15, 'Agent Type': 'Predator', 'Food': 10},\n",
    "    'Delta Age': 1}]}]\n",
    "msi.blocks[\"Update Food Mechanism\"](state, params, spaces[:1])\n",
    "assert state[\"Agents\"] == [{'Age': 5, 'Agent Type': 'Predator', 'Food': 9},\n",
    " {'Age': 5, 'Agent Type': 'Predator', 'Food': -1},\n",
    " {'Age': 10, 'Agent Type': 'Predator', 'Food': 9},\n",
    " {'Age': 15, 'Agent Type': 'Predator', 'Food': 9}]\n",
    "msi.blocks[\"Increase Agent Age Mechanism\"](state, params, spaces[1:])\n",
    "assert state[\"Agents\"] == [{'Age': 6, 'Agent Type': 'Predator', 'Food': 9},\n",
    " {'Age': 6, 'Agent Type': 'Predator', 'Food': -1},\n",
    " {'Age': 11, 'Agent Type': 'Predator', 'Food': 9},\n",
    " {'Age': 16, 'Agent Type': 'Predator', 'Food': 9}]"
   ]
  },
  {
   "cell_type": "code",
   "execution_count": 3,
   "metadata": {},
   "outputs": [],
   "source": [
    "# Set the randomness to ensure the same outcome each time from random parts\n",
    "from random import seed\n",
    "seed(1)\n",
    "\n",
    "# Set the state and parameters\n",
    "state, params = msi.prepare_state_and_params(state_test_natural_death, params_base,\n",
    "                                             state_preperation_functions=[create_sites],\n",
    "                                             parameter_preperation_functions=[])\n",
    "assert state[\"Agents\"] == [{'Age': 5, 'Agent Type': 'Predator', 'Food': 10},\n",
    "  {'Age': 5, 'Agent Type': 'Predator', 'Food': 0},\n",
    "  {'Age': 10, 'Agent Type': 'Predator', 'Food': 10},\n",
    "  {'Age': 15, 'Agent Type': 'Predator', 'Food': 10}]\n",
    "msi.wiring[\"Increase Agent Age Wiring\"](state, params, [])\n",
    "assert state[\"Agents\"] == [{'Age': 6, 'Agent Type': 'Predator', 'Food': 9},\n",
    " {'Age': 6, 'Agent Type': 'Predator', 'Food': -1},\n",
    " {'Age': 11, 'Agent Type': 'Predator', 'Food': 9},\n",
    " {'Age': 16, 'Agent Type': 'Predator', 'Food': 9}]"
   ]
  }
 ],
 "metadata": {
  "kernelspec": {
   "display_name": "MSML",
   "language": "python",
   "name": "python3"
  },
  "language_info": {
   "codemirror_mode": {
    "name": "ipython",
    "version": 3
   },
   "file_extension": ".py",
   "mimetype": "text/x-python",
   "name": "python",
   "nbconvert_exporter": "python",
   "pygments_lexer": "ipython3",
   "version": "3.9.19"
  }
 },
 "nbformat": 4,
 "nbformat_minor": 2
}
