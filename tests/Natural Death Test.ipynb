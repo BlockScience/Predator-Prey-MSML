{
 "cells": [
  {
   "cell_type": "code",
   "execution_count": 1,
   "metadata": {},
   "outputs": [],
   "source": [
    "import sys\n",
    "import os\n",
    "\n",
    "sys.path.append(os.path.abspath('..'))\n",
    "\n",
    "\n",
    "from simulation import params_base, state_test_natural_death, create_sites\n",
    "\n",
    "from math_spec_mapping import load_from_json\n",
    "\n",
    "\"\"\"# For development purposes\n",
    "sys.path.append(os.path.abspath('../..'))\n",
    "from MSML.src.math_spec_mapping import (load_from_json)\"\"\"\n",
    "\n",
    "from copy import deepcopy\n",
    "from src import math_spec_json\n",
    "\n",
    "ms = load_from_json(deepcopy(math_spec_json))\n",
    "\n",
    "msi = ms.build_implementation(params_base)"
   ]
  },
  {
   "cell_type": "code",
   "execution_count": 2,
   "metadata": {},
   "outputs": [
    {
     "ename": "KeyError",
     "evalue": "'Location'",
     "output_type": "error",
     "traceback": [
      "\u001b[0;31m---------------------------------------------------------------------------\u001b[0m",
      "\u001b[0;31mKeyError\u001b[0m                                  Traceback (most recent call last)",
      "Cell \u001b[0;32mIn[2], line 21\u001b[0m\n\u001b[1;32m     19\u001b[0m spaces \u001b[38;5;241m=\u001b[39m msi\u001b[38;5;241m.\u001b[39mblocks[\u001b[38;5;124m\"\u001b[39m\u001b[38;5;124mNatural Death Policy\u001b[39m\u001b[38;5;124m\"\u001b[39m](state, params, spaces)\n\u001b[1;32m     20\u001b[0m \u001b[38;5;28;01massert\u001b[39;00m spaces \u001b[38;5;241m==\u001b[39m [{\u001b[38;5;124m'\u001b[39m\u001b[38;5;124mAgents\u001b[39m\u001b[38;5;124m'\u001b[39m: [{\u001b[38;5;124m'\u001b[39m\u001b[38;5;124mAge\u001b[39m\u001b[38;5;124m'\u001b[39m: \u001b[38;5;241m5\u001b[39m, \u001b[38;5;124m'\u001b[39m\u001b[38;5;124mAgent Type\u001b[39m\u001b[38;5;124m'\u001b[39m: \u001b[38;5;124m'\u001b[39m\u001b[38;5;124mPredator\u001b[39m\u001b[38;5;124m'\u001b[39m, \u001b[38;5;124m'\u001b[39m\u001b[38;5;124mFood\u001b[39m\u001b[38;5;124m'\u001b[39m: \u001b[38;5;241m0\u001b[39m}, {\u001b[38;5;124m'\u001b[39m\u001b[38;5;124mAge\u001b[39m\u001b[38;5;124m'\u001b[39m: \u001b[38;5;241m10\u001b[39m, \u001b[38;5;124m'\u001b[39m\u001b[38;5;124mAgent Type\u001b[39m\u001b[38;5;124m'\u001b[39m: \u001b[38;5;124m'\u001b[39m\u001b[38;5;124mPredator\u001b[39m\u001b[38;5;124m'\u001b[39m, \u001b[38;5;124m'\u001b[39m\u001b[38;5;124mFood\u001b[39m\u001b[38;5;124m'\u001b[39m: \u001b[38;5;241m10\u001b[39m}, {\u001b[38;5;124m'\u001b[39m\u001b[38;5;124mAge\u001b[39m\u001b[38;5;124m'\u001b[39m: \u001b[38;5;241m15\u001b[39m, \u001b[38;5;124m'\u001b[39m\u001b[38;5;124mAgent Type\u001b[39m\u001b[38;5;124m'\u001b[39m: \u001b[38;5;124m'\u001b[39m\u001b[38;5;124mPredator\u001b[39m\u001b[38;5;124m'\u001b[39m, \u001b[38;5;124m'\u001b[39m\u001b[38;5;124mFood\u001b[39m\u001b[38;5;124m'\u001b[39m: \u001b[38;5;241m10\u001b[39m}]}]\n\u001b[0;32m---> 21\u001b[0m \u001b[43mmsi\u001b[49m\u001b[38;5;241;43m.\u001b[39;49m\u001b[43mblocks\u001b[49m\u001b[43m[\u001b[49m\u001b[38;5;124;43m\"\u001b[39;49m\u001b[38;5;124;43mRemove Agents Mechanism\u001b[39;49m\u001b[38;5;124;43m\"\u001b[39;49m\u001b[43m]\u001b[49m\u001b[43m(\u001b[49m\u001b[43mstate\u001b[49m\u001b[43m,\u001b[49m\u001b[43m \u001b[49m\u001b[43mparams\u001b[49m\u001b[43m,\u001b[49m\u001b[43m \u001b[49m\u001b[43mspaces\u001b[49m\u001b[43m)\u001b[49m\n\u001b[1;32m     22\u001b[0m \u001b[38;5;28;01massert\u001b[39;00m state[\u001b[38;5;124m\"\u001b[39m\u001b[38;5;124mAgents\u001b[39m\u001b[38;5;124m\"\u001b[39m] \u001b[38;5;241m==\u001b[39m [{\u001b[38;5;124m'\u001b[39m\u001b[38;5;124mAge\u001b[39m\u001b[38;5;124m'\u001b[39m: \u001b[38;5;241m5\u001b[39m, \u001b[38;5;124m'\u001b[39m\u001b[38;5;124mAgent Type\u001b[39m\u001b[38;5;124m'\u001b[39m: \u001b[38;5;124m'\u001b[39m\u001b[38;5;124mPredator\u001b[39m\u001b[38;5;124m'\u001b[39m, \u001b[38;5;124m'\u001b[39m\u001b[38;5;124mFood\u001b[39m\u001b[38;5;124m'\u001b[39m: \u001b[38;5;241m10\u001b[39m}]\n",
      "File \u001b[0;32m~/Dropbox/BlockScience/Predator-Prey-MSML/src/Implementations/Python/Mechanisms/Agent.py:6\u001b[0m, in \u001b[0;36mremove_agents_mechanism\u001b[0;34m(state, params, spaces)\u001b[0m\n\u001b[1;32m      2\u001b[0m state[\u001b[38;5;124m\"\u001b[39m\u001b[38;5;124mAgents\u001b[39m\u001b[38;5;124m\"\u001b[39m] \u001b[38;5;241m=\u001b[39m [\n\u001b[1;32m      3\u001b[0m     agent \u001b[38;5;28;01mfor\u001b[39;00m agent \u001b[38;5;129;01min\u001b[39;00m state[\u001b[38;5;124m\"\u001b[39m\u001b[38;5;124mAgents\u001b[39m\u001b[38;5;124m\"\u001b[39m] \u001b[38;5;28;01mif\u001b[39;00m agent \u001b[38;5;129;01mnot\u001b[39;00m \u001b[38;5;129;01min\u001b[39;00m spaces[\u001b[38;5;241m0\u001b[39m][\u001b[38;5;124m\"\u001b[39m\u001b[38;5;124mAgents\u001b[39m\u001b[38;5;124m\"\u001b[39m]\n\u001b[1;32m      4\u001b[0m ]\n\u001b[1;32m      5\u001b[0m \u001b[38;5;28;01mfor\u001b[39;00m agent \u001b[38;5;129;01min\u001b[39;00m spaces[\u001b[38;5;241m0\u001b[39m][\u001b[38;5;124m\"\u001b[39m\u001b[38;5;124mAgents\u001b[39m\u001b[38;5;124m\"\u001b[39m]:\n\u001b[0;32m----> 6\u001b[0m     state[\u001b[38;5;124m\"\u001b[39m\u001b[38;5;124mSites Matrix\u001b[39m\u001b[38;5;124m\"\u001b[39m][\u001b[43magent\u001b[49m\u001b[43m[\u001b[49m\u001b[38;5;124;43m\"\u001b[39;49m\u001b[38;5;124;43mLocation\u001b[39;49m\u001b[38;5;124;43m\"\u001b[39;49m\u001b[43m]\u001b[49m[\u001b[38;5;241m0\u001b[39m]][agent[\u001b[38;5;124m\"\u001b[39m\u001b[38;5;124mLocation\u001b[39m\u001b[38;5;124m\"\u001b[39m][\u001b[38;5;241m1\u001b[39m]][\n\u001b[1;32m      7\u001b[0m         \u001b[38;5;124m\"\u001b[39m\u001b[38;5;124mAgent\u001b[39m\u001b[38;5;124m\"\u001b[39m\n\u001b[1;32m      8\u001b[0m     ] \u001b[38;5;241m=\u001b[39m \u001b[38;5;28;01mNone\u001b[39;00m\n",
      "\u001b[0;31mKeyError\u001b[0m: 'Location'"
     ]
    }
   ],
   "source": [
    "# Set the randomness to ensure the same outcome each time from random parts\n",
    "from random import seed\n",
    "seed(1)\n",
    "\n",
    "# Set the state and parameters\n",
    "state, params = msi.prepare_state_and_params(state_test_natural_death, params_base,\n",
    "                                             state_preperation_functions=[create_sites],\n",
    "                                             parameter_preperation_functions=[])\n",
    "\n",
    "assert state[\"Agents\"] == [{'Age': 5, 'Agent Type': 'Predator', 'Food': 10},\n",
    "  {'Age': 5, 'Agent Type': 'Predator', 'Food': 0},\n",
    "  {'Age': 10, 'Agent Type': 'Predator', 'Food': 10},\n",
    "  {'Age': 15, 'Agent Type': 'Predator', 'Food': 10}]\n",
    "spaces = msi.blocks[\"Natural Death Control Action\"](state, params, [])\n",
    "assert spaces == [{\"Agents\": [{'Age': 5, 'Agent Type': 'Predator', 'Food': 10},\n",
    " {'Age': 5, 'Agent Type': 'Predator', 'Food': 0},\n",
    " {'Age': 10, 'Agent Type': 'Predator', 'Food': 10},\n",
    " {'Age': 15, 'Agent Type': 'Predator', 'Food': 10}]}]\n",
    "spaces = msi.blocks[\"Natural Death Policy\"](state, params, spaces)\n",
    "assert spaces == [{'Agents': [{'Age': 5, 'Agent Type': 'Predator', 'Food': 0}, {'Age': 10, 'Agent Type': 'Predator', 'Food': 10}, {'Age': 15, 'Agent Type': 'Predator', 'Food': 10}]}]\n",
    "msi.blocks[\"Remove Agents Mechanism\"](state, params, spaces)\n",
    "assert state[\"Agents\"] == [{'Age': 5, 'Agent Type': 'Predator', 'Food': 10}]"
   ]
  },
  {
   "cell_type": "code",
   "execution_count": 3,
   "metadata": {},
   "outputs": [],
   "source": [
    "# Set the randomness to ensure the same outcome each time from random parts\n",
    "from random import seed\n",
    "seed(1)\n",
    "\n",
    "# Set the state and parameters\n",
    "state, params = msi.prepare_state_and_params(state_test_natural_death, params_base,\n",
    "                                             state_preperation_functions=[create_sites],\n",
    "                                             parameter_preperation_functions=[])\n",
    "\n",
    "assert state[\"Agents\"] == [{'Age': 5, 'Agent Type': 'Predator', 'Food': 10},\n",
    "  {'Age': 5, 'Agent Type': 'Predator', 'Food': 0},\n",
    "  {'Age': 10, 'Agent Type': 'Predator', 'Food': 10},\n",
    "  {'Age': 15, 'Agent Type': 'Predator', 'Food': 10}]\n",
    "msi.wiring[\"Natural Death Wiring\"](state, params, [])\n",
    "assert state[\"Agents\"] == [{'Age': 5, 'Agent Type': 'Predator', 'Food': 10}]"
   ]
  }
 ],
 "metadata": {
  "kernelspec": {
   "display_name": "MSML",
   "language": "python",
   "name": "python3"
  },
  "language_info": {
   "codemirror_mode": {
    "name": "ipython",
    "version": 3
   },
   "file_extension": ".py",
   "mimetype": "text/x-python",
   "name": "python",
   "nbconvert_exporter": "python",
   "pygments_lexer": "ipython3",
   "version": "3.9.19"
  }
 },
 "nbformat": 4,
 "nbformat_minor": 2
}
