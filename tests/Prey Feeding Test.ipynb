{
 "cells": [
  {
   "cell_type": "code",
   "execution_count": 1,
   "metadata": {},
   "outputs": [
    {
     "name": "stdout",
     "output_type": "stream",
     "text": [
      "No python implementation for Prey Feeding Boundary Action / Prey Feeding Boundary Action V1. To fix this, go to Implementations/Python/BoundaryActions and add Prey Feeding Boundary Action V1\n"
     ]
    }
   ],
   "source": [
    "import sys\n",
    "import os\n",
    "\n",
    "sys.path.append(os.path.abspath('..'))\n",
    "\n",
    "\n",
    "from simulation import params_prey_feeding_test, state_base_prey_feeding_test, create_sites, create_initial_agents\n",
    "\n",
    "from math_spec_mapping import load_from_json\n",
    "\n",
    "\"\"\"# For development purposes\n",
    "sys.path.append(os.path.abspath('../..'))\n",
    "from MSML.src.math_spec_mapping import (load_from_json)\"\"\"\n",
    "\n",
    "from copy import deepcopy\n",
    "from src import math_spec_json\n",
    "\n",
    "ms = load_from_json(deepcopy(math_spec_json))\n",
    "\n",
    "msi = ms.build_implementation(params_prey_feeding_test)"
   ]
  },
  {
   "cell_type": "code",
   "execution_count": 2,
   "metadata": {},
   "outputs": [],
   "source": [
    "# Set the randomness to ensure the same outcome each time from random parts\n",
    "from random import seed\n",
    "seed(2)\n",
    "\n",
    "# Set the state and parameters\n",
    "state, params = msi.prepare_state_and_params(state_base_prey_feeding_test, params_prey_feeding_test,\n",
    "                                             state_preperation_functions=[create_sites, create_initial_agents],\n",
    "                                             parameter_preperation_functions=[])\n",
    "assert state[\"Agents\"] == [{'Age': 0, 'Agent Type': 'Prey', 'Food': 5, 'Location': (0, 0)},\n",
    " {'Age': 0, 'Agent Type': 'Prey', 'Food': 5, 'Location': (0, 1)},\n",
    " {'Age': 0, 'Agent Type': 'Predator', 'Food': 7, 'Location': (1, 1)},\n",
    " {'Age': 0, 'Agent Type': 'Prey', 'Food': 5, 'Location': (1, 0)},\n",
    " {'Age': 0, 'Agent Type': 'Predator', 'Food': 7, 'Location': (2, 0)}]\n",
    "\n",
    "assert state[\"Sites\"] == [{'Location': (0, 0),\n",
    "  'Food': 2,\n",
    "  'Agent': {'Age': 0, 'Agent Type': 'Prey', 'Food': 5, 'Location': (0, 0)}},\n",
    " {'Location': (0, 1),\n",
    "  'Food': 1,\n",
    "  'Agent': {'Age': 0, 'Agent Type': 'Prey', 'Food': 5, 'Location': (0, 1)}},\n",
    " {'Location': (1, 0),\n",
    "  'Food': 0,\n",
    "  'Agent': {'Age': 0, 'Agent Type': 'Prey', 'Food': 5, 'Location': (1, 0)}},\n",
    " {'Location': (1, 1),\n",
    "  'Food': 2,\n",
    "  'Agent': {'Age': 0,\n",
    "   'Agent Type': 'Predator',\n",
    "   'Food': 7,\n",
    "   'Location': (1, 1)}},\n",
    " {'Location': (2, 0),\n",
    "  'Food': 2,\n",
    "  'Agent': {'Age': 0,\n",
    "   'Agent Type': 'Predator',\n",
    "   'Food': 7,\n",
    "   'Location': (2, 0)}},\n",
    " {'Location': (2, 1), 'Food': 3, 'Agent': None}]"
   ]
  },
  {
   "cell_type": "code",
   "execution_count": null,
   "metadata": {},
   "outputs": [],
   "source": []
  }
 ],
 "metadata": {
  "kernelspec": {
   "display_name": "MSML",
   "language": "python",
   "name": "python3"
  },
  "language_info": {
   "codemirror_mode": {
    "name": "ipython",
    "version": 3
   },
   "file_extension": ".py",
   "mimetype": "text/x-python",
   "name": "python",
   "nbconvert_exporter": "python",
   "pygments_lexer": "ipython3",
   "version": "3.9.19"
  }
 },
 "nbformat": 4,
 "nbformat_minor": 2
}
