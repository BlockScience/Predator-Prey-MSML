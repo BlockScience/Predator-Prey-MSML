{
 "cells": [
  {
   "cell_type": "code",
   "execution_count": 1,
   "metadata": {},
   "outputs": [],
   "source": [
    "import sys\n",
    "import os\n",
    "\n",
    "sys.path.append(os.path.abspath('..'))\n",
    "\n",
    "\n",
    "from simulation import params_base, state_base, create_sites, create_initial_agents\n",
    "\n",
    "from math_spec_mapping import load_from_json\n",
    "\n",
    "\"\"\"# For development purposes\n",
    "sys.path.append(os.path.abspath('../..'))\n",
    "from MSML.src.math_spec_mapping import (load_from_json)\"\"\"\n",
    "\n",
    "from copy import deepcopy\n",
    "from src import math_spec_json\n",
    "\n",
    "ms = load_from_json(deepcopy(math_spec_json))\n",
    "\n",
    "msi = ms.build_implementation(params_base)"
   ]
  },
  {
   "cell_type": "code",
   "execution_count": 2,
   "metadata": {},
   "outputs": [
    {
     "name": "stdout",
     "output_type": "stream",
     "text": [
      "['Predator', 'Predator', 'Prey', 'Prey', 'Predator', 'Predator', 'Prey', 'Predator', 'Prey', 'Prey']\n"
     ]
    }
   ],
   "source": [
    "# Set the randomness to ensure the same outcome each time from random parts\n",
    "from random import seed\n",
    "seed(2)\n",
    "\n",
    "# Set the state and parameters\n",
    "state, params = msi.prepare_state_and_params(state_base, params_base,\n",
    "                                             state_preperation_functions=[create_sites, create_initial_agents],\n",
    "                                             parameter_preperation_functions=[])\n"
   ]
  },
  {
   "cell_type": "code",
   "execution_count": 3,
   "metadata": {},
   "outputs": [
    {
     "data": {
      "text/plain": [
       "[{'Age': 0, 'Agent Type': 'Predator', 'Food': 5, 'Location': (1, 4)},\n",
       " {'Age': 0, 'Agent Type': 'Predator', 'Food': 5, 'Location': (0, 2)},\n",
       " {'Age': 0, 'Agent Type': 'Prey', 'Food': 5, 'Location': (3, 2)},\n",
       " {'Age': 0, 'Agent Type': 'Prey', 'Food': 5, 'Location': (3, 0)},\n",
       " {'Age': 0, 'Agent Type': 'Predator', 'Food': 5, 'Location': (4, 3)},\n",
       " {'Age': 0, 'Agent Type': 'Predator', 'Food': 5, 'Location': (4, 4)},\n",
       " {'Age': 0, 'Agent Type': 'Prey', 'Food': 5, 'Location': (0, 3)},\n",
       " {'Age': 0, 'Agent Type': 'Predator', 'Food': 5, 'Location': (1, 1)},\n",
       " {'Age': 0, 'Agent Type': 'Prey', 'Food': 5, 'Location': (2, 0)},\n",
       " {'Age': 0, 'Agent Type': 'Prey', 'Food': 5, 'Location': (1, 2)}]"
      ]
     },
     "execution_count": 3,
     "metadata": {},
     "output_type": "execute_result"
    }
   ],
   "source": [
    "state[\"Agents\"]"
   ]
  },
  {
   "cell_type": "code",
   "execution_count": 4,
   "metadata": {},
   "outputs": [
    {
     "data": {
      "text/plain": [
       "[{'Location': (0, 0), 'Food': 0, 'Agent': None},\n",
       " {'Location': (0, 1), 'Food': 0, 'Agent': None},\n",
       " {'Location': (0, 2),\n",
       "  'Food': 0,\n",
       "  'Agent': {'Age': 0,\n",
       "   'Agent Type': 'Predator',\n",
       "   'Food': 5,\n",
       "   'Location': (0, 2)}},\n",
       " {'Location': (0, 3),\n",
       "  'Food': 0,\n",
       "  'Agent': {'Age': 0, 'Agent Type': 'Prey', 'Food': 5, 'Location': (0, 3)}},\n",
       " {'Location': (0, 4), 'Food': 0, 'Agent': None},\n",
       " {'Location': (1, 0), 'Food': 0, 'Agent': None},\n",
       " {'Location': (1, 1),\n",
       "  'Food': 0,\n",
       "  'Agent': {'Age': 0,\n",
       "   'Agent Type': 'Predator',\n",
       "   'Food': 5,\n",
       "   'Location': (1, 1)}},\n",
       " {'Location': (1, 2),\n",
       "  'Food': 0,\n",
       "  'Agent': {'Age': 0, 'Agent Type': 'Prey', 'Food': 5, 'Location': (1, 2)}},\n",
       " {'Location': (1, 3), 'Food': 0, 'Agent': None},\n",
       " {'Location': (1, 4),\n",
       "  'Food': 0,\n",
       "  'Agent': {'Age': 0,\n",
       "   'Agent Type': 'Predator',\n",
       "   'Food': 5,\n",
       "   'Location': (1, 4)}},\n",
       " {'Location': (2, 0),\n",
       "  'Food': 0,\n",
       "  'Agent': {'Age': 0, 'Agent Type': 'Prey', 'Food': 5, 'Location': (2, 0)}},\n",
       " {'Location': (2, 1), 'Food': 0, 'Agent': None},\n",
       " {'Location': (2, 2), 'Food': 0, 'Agent': None},\n",
       " {'Location': (2, 3), 'Food': 0, 'Agent': None},\n",
       " {'Location': (2, 4), 'Food': 0, 'Agent': None},\n",
       " {'Location': (3, 0),\n",
       "  'Food': 0,\n",
       "  'Agent': {'Age': 0, 'Agent Type': 'Prey', 'Food': 5, 'Location': (3, 0)}},\n",
       " {'Location': (3, 1), 'Food': 0, 'Agent': None},\n",
       " {'Location': (3, 2),\n",
       "  'Food': 0,\n",
       "  'Agent': {'Age': 0, 'Agent Type': 'Prey', 'Food': 5, 'Location': (3, 2)}},\n",
       " {'Location': (3, 3), 'Food': 0, 'Agent': None},\n",
       " {'Location': (3, 4), 'Food': 0, 'Agent': None},\n",
       " {'Location': (4, 0), 'Food': 0, 'Agent': None},\n",
       " {'Location': (4, 1), 'Food': 0, 'Agent': None},\n",
       " {'Location': (4, 2), 'Food': 0, 'Agent': None},\n",
       " {'Location': (4, 3),\n",
       "  'Food': 0,\n",
       "  'Agent': {'Age': 0,\n",
       "   'Agent Type': 'Predator',\n",
       "   'Food': 5,\n",
       "   'Location': (4, 3)}},\n",
       " {'Location': (4, 4),\n",
       "  'Food': 0,\n",
       "  'Agent': {'Age': 0,\n",
       "   'Agent Type': 'Predator',\n",
       "   'Food': 5,\n",
       "   'Location': (4, 4)}}]"
      ]
     },
     "execution_count": 4,
     "metadata": {},
     "output_type": "execute_result"
    }
   ],
   "source": [
    "state[\"Sites\"]"
   ]
  },
  {
   "cell_type": "code",
   "execution_count": null,
   "metadata": {},
   "outputs": [],
   "source": []
  }
 ],
 "metadata": {
  "kernelspec": {
   "display_name": "MSML",
   "language": "python",
   "name": "python3"
  },
  "language_info": {
   "codemirror_mode": {
    "name": "ipython",
    "version": 3
   },
   "file_extension": ".py",
   "mimetype": "text/x-python",
   "name": "python",
   "nbconvert_exporter": "python",
   "pygments_lexer": "ipython3",
   "version": "3.9.19"
  }
 },
 "nbformat": 4,
 "nbformat_minor": 2
}
