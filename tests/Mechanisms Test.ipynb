{
 "cells": [
  {
   "cell_type": "code",
   "execution_count": 1,
   "metadata": {},
   "outputs": [],
   "source": [
    "import sys\n",
    "import os\n",
    "\n",
    "sys.path.append(os.path.abspath('..'))\n",
    "\n",
    "\n",
    "from simulation import params_mech_test, state_mech_test, create_sites, create_initial_agents\n",
    "\n",
    "#from math_spec_mapping import load_from_json\n",
    "\n",
    "# For development purposes\n",
    "sys.path.append(os.path.abspath('../..'))\n",
    "from MSML.src.math_spec_mapping import (load_from_json)\n",
    "\n",
    "from copy import deepcopy\n",
    "from src import math_spec_json\n",
    "\n",
    "ms = load_from_json(deepcopy(math_spec_json))\n",
    "\n",
    "msi = ms.build_implementation(params_mech_test)"
   ]
  },
  {
   "cell_type": "code",
   "execution_count": 2,
   "metadata": {},
   "outputs": [
    {
     "name": "stdout",
     "output_type": "stream",
     "text": [
      "--------------------DUMMY Length-1 ABC Boundary Action--------------------\n"
     ]
    },
    {
     "data": {
      "text/markdown": [
       "```python\n",
       "def v1_dummy_boundary(state, params, spaces):\n",
       "    return [{\"string\": choice([\"A\", \"B\", \"C\"])}]\n",
       "\n",
       "```"
      ],
      "text/plain": [
       "<IPython.core.display.Markdown object>"
      ]
     },
     "metadata": {},
     "output_type": "display_data"
    },
    {
     "name": "stdout",
     "output_type": "stream",
     "text": [
      "\n",
      "\n",
      "File path: /Users/seanmcowen/Dropbox/BlockScience/Predator-Prey-MSML/src/Implementations/Python/BoundaryActions/Dummy.py\n",
      "Relative file path: ./../src/Implementations/Python/BoundaryActions/Dummy.py\n",
      "\n",
      "\n",
      "\n",
      "\n",
      "--------------------DUMMY Length-2 ABC Combo Boundary Action--------------------\n"
     ]
    },
    {
     "data": {
      "text/markdown": [
       "```python\n",
       "def v1_dummy_boundary2(state, params, spaces):\n",
       "    first = choice([\"A\", \"B\", \"C\"])\n",
       "    second = choice([\"A\", \"B\", \"C\"])\n",
       "    return [{\"string\": first + second}]\n",
       "\n",
       "```"
      ],
      "text/plain": [
       "<IPython.core.display.Markdown object>"
      ]
     },
     "metadata": {},
     "output_type": "display_data"
    },
    {
     "name": "stdout",
     "output_type": "stream",
     "text": [
      "\n",
      "\n",
      "File path: /Users/seanmcowen/Dropbox/BlockScience/Predator-Prey-MSML/src/Implementations/Python/BoundaryActions/Dummy.py\n",
      "Relative file path: ./../src/Implementations/Python/BoundaryActions/Dummy.py\n",
      "\n",
      "\n",
      "\n",
      "\n",
      "--------------------Prey Feeding Boundary Action--------------------\n"
     ]
    },
    {
     "data": {
      "text/markdown": [
       "```python\n",
       "def prey_feeding_boundary_action_v1(state, params, spaces):\n",
       "    prey = state[\"Stateful Metrics\"][\"Prey Stateful Metric\"](state, params)\n",
       "    prey = [x for x in prey if x[\"Food\"] <= params[\"Hunger Threshold\"]]\n",
       "    return [{\"Agents\": prey}]\n",
       "\n",
       "```"
      ],
      "text/plain": [
       "<IPython.core.display.Markdown object>"
      ]
     },
     "metadata": {},
     "output_type": "display_data"
    },
    {
     "name": "stdout",
     "output_type": "stream",
     "text": [
      "\n",
      "\n",
      "File path: /Users/seanmcowen/Dropbox/BlockScience/Predator-Prey-MSML/src/Implementations/Python/BoundaryActions/Agent.py\n",
      "Relative file path: ./../src/Implementations/Python/BoundaryActions/Agent.py\n",
      "\n",
      "\n",
      "\n",
      "\n",
      "--------------------Hunt Prey Boundary Action--------------------\n"
     ]
    },
    {
     "data": {
      "text/markdown": [
       "```python\n",
       "def hunt_prey_boundary_action_v1(state, params, spaces):\n",
       "    predators = state[\"Stateful Metrics\"][\"Predator Stateful Metric\"](state, params)\n",
       "    predators = [x for x in predators if x[\"Food\"] <= params[\"Hunger Threshold\"]]\n",
       "    shuffle(predators)\n",
       "    return [{\"Agents\": predators}]\n",
       "\n",
       "```"
      ],
      "text/plain": [
       "<IPython.core.display.Markdown object>"
      ]
     },
     "metadata": {},
     "output_type": "display_data"
    },
    {
     "name": "stdout",
     "output_type": "stream",
     "text": [
      "\n",
      "\n",
      "File path: /Users/seanmcowen/Dropbox/BlockScience/Predator-Prey-MSML/src/Implementations/Python/BoundaryActions/Agent.py\n",
      "Relative file path: ./../src/Implementations/Python/BoundaryActions/Agent.py\n",
      "\n",
      "\n",
      "\n",
      "\n",
      "--------------------Agent Movement Boundary Action--------------------\n"
     ]
    },
    {
     "data": {
      "text/markdown": [
       "```python\n",
       "def all_agents_move(state, params, spaces):\n",
       "    agents = [x for x in state[\"Agents\"]]\n",
       "    shuffle(agents)\n",
       "    return [{\"Agents\": agents}]\n",
       "\n",
       "```"
      ],
      "text/plain": [
       "<IPython.core.display.Markdown object>"
      ]
     },
     "metadata": {},
     "output_type": "display_data"
    },
    {
     "name": "stdout",
     "output_type": "stream",
     "text": [
      "\n",
      "\n",
      "File path: /Users/seanmcowen/Dropbox/BlockScience/Predator-Prey-MSML/src/Implementations/Python/BoundaryActions/Agent.py\n",
      "Relative file path: ./../src/Implementations/Python/BoundaryActions/Agent.py\n",
      "\n",
      "\n",
      "\n",
      "\n",
      "--------------------Agent Reproduction Boundary Action--------------------\n"
     ]
    },
    {
     "data": {
      "text/markdown": [
       "```python\n",
       "def reproduction_threshold_reproduction_boundary_action(state, params, spaces):\n",
       "    agents = [\n",
       "        x for x in state[\"Agents\"] if x[\"Food\"] >= params[\"Reproduction Food Threshold\"]\n",
       "    ]\n",
       "    shuffle(agents)\n",
       "    return [{\"Agents\": agents}]\n",
       "\n",
       "```"
      ],
      "text/plain": [
       "<IPython.core.display.Markdown object>"
      ]
     },
     "metadata": {},
     "output_type": "display_data"
    },
    {
     "name": "stdout",
     "output_type": "stream",
     "text": [
      "\n",
      "\n",
      "File path: /Users/seanmcowen/Dropbox/BlockScience/Predator-Prey-MSML/src/Implementations/Python/BoundaryActions/Agent.py\n",
      "Relative file path: ./../src/Implementations/Python/BoundaryActions/Agent.py\n",
      "\n",
      "\n",
      "\n",
      "\n",
      "--------------------DUMMY Length-1 DEF Control Action--------------------\n"
     ]
    },
    {
     "data": {
      "text/markdown": [
       "```python\n",
       "def v1_dummy_control(state, params, spaces):\n",
       "    return [{\"string\": choice([\"D\", \"E\", \"F\"])}]\n",
       "\n",
       "```"
      ],
      "text/plain": [
       "<IPython.core.display.Markdown object>"
      ]
     },
     "metadata": {},
     "output_type": "display_data"
    },
    {
     "name": "stdout",
     "output_type": "stream",
     "text": [
      "\n",
      "\n",
      "File path: /Users/seanmcowen/Dropbox/BlockScience/Predator-Prey-MSML/src/Implementations/Python/ControlActions/Dummy.py\n",
      "Relative file path: ./../src/Implementations/Python/ControlActions/Dummy.py\n",
      "\n",
      "\n",
      "\n",
      "\n",
      "--------------------Food Growth Control Action--------------------\n"
     ]
    },
    {
     "data": {
      "text/markdown": [
       "```python\n",
       "def food_growth_control_action_v1(state, params, spaces):\n",
       "    sites = [\n",
       "        site\n",
       "        for site in state[\"Sites\"]\n",
       "        if site[\"Food\"] < params[\"Maximum Food per Tile\"]\n",
       "    ]\n",
       "    return [{\"Locations\": sites}]\n",
       "\n",
       "```"
      ],
      "text/plain": [
       "<IPython.core.display.Markdown object>"
      ]
     },
     "metadata": {},
     "output_type": "display_data"
    },
    {
     "name": "stdout",
     "output_type": "stream",
     "text": [
      "\n",
      "\n",
      "File path: /Users/seanmcowen/Dropbox/BlockScience/Predator-Prey-MSML/src/Implementations/Python/ControlActions/Site.py\n",
      "Relative file path: ./../src/Implementations/Python/ControlActions/Site.py\n",
      "\n",
      "\n",
      "\n",
      "\n",
      "--------------------Natural Death Control Action--------------------\n"
     ]
    },
    {
     "data": {
      "text/markdown": [
       "```python\n",
       "def natural_death_control_action_v1(state, params, spaces):\n",
       "    return [{\"Agents\": state[\"Agents\"]}]\n",
       "\n",
       "```"
      ],
      "text/plain": [
       "<IPython.core.display.Markdown object>"
      ]
     },
     "metadata": {},
     "output_type": "display_data"
    },
    {
     "name": "stdout",
     "output_type": "stream",
     "text": [
      "\n",
      "\n",
      "File path: /Users/seanmcowen/Dropbox/BlockScience/Predator-Prey-MSML/src/Implementations/Python/ControlActions/Agent.py\n",
      "Relative file path: ./../src/Implementations/Python/ControlActions/Agent.py\n",
      "\n",
      "\n",
      "\n",
      "\n",
      "--------------------Increase Age Control Action--------------------\n"
     ]
    },
    {
     "data": {
      "text/markdown": [
       "```python\n",
       "def increase_agent_age_control_action_v1(state, params, spaces):\n",
       "    return [{\"Agents\": state[\"Agents\"]}]\n",
       "\n",
       "```"
      ],
      "text/plain": [
       "<IPython.core.display.Markdown object>"
      ]
     },
     "metadata": {},
     "output_type": "display_data"
    },
    {
     "name": "stdout",
     "output_type": "stream",
     "text": [
      "\n",
      "\n",
      "File path: /Users/seanmcowen/Dropbox/BlockScience/Predator-Prey-MSML/src/Implementations/Python/ControlActions/Agent.py\n",
      "Relative file path: ./../src/Implementations/Python/ControlActions/Agent.py\n",
      "\n",
      "\n",
      "\n",
      "\n",
      "--------------------DUMMY Letter Count Policy--------------------\n"
     ]
    },
    {
     "data": {
      "text/markdown": [
       "```python\n",
       "def dummy_letter_count_policy(state, params, spaces):\n",
       "    starting_string = spaces[0][\"string\"]\n",
       "    unique = len(set(list(starting_string)))\n",
       "    length = state[\"Metrics\"][\"DUMMY Multiplied Length Metric\"](state, params, spaces)\n",
       "    return [{\"string\": starting_string, \"unique_length\": unique, \"length\": length}]\n",
       "\n",
       "```"
      ],
      "text/plain": [
       "<IPython.core.display.Markdown object>"
      ]
     },
     "metadata": {},
     "output_type": "display_data"
    },
    {
     "name": "stdout",
     "output_type": "stream",
     "text": [
      "\n",
      "\n",
      "File path: /Users/seanmcowen/Dropbox/BlockScience/Predator-Prey-MSML/src/Implementations/Python/Policies/Dummy.py\n",
      "Relative file path: ./../src/Implementations/Python/Policies/Dummy.py\n",
      "\n",
      "\n",
      "\n",
      "\n",
      "--------------------Food Growth Policy--------------------\n"
     ]
    },
    {
     "data": {
      "text/markdown": [
       "```python\n",
       "def constant_food_growth_policy(state, params, spaces):\n",
       "    space = {\"Food Locations\": []}\n",
       "    for loc in spaces[0][\"Locations\"]:\n",
       "        delta_food = min(\n",
       "            params[\"Maximum Food per Tile\"] - loc[\"Food\"], params[\"Food Growth Rate\"]\n",
       "        )\n",
       "        space[\"Food Locations\"].append(\n",
       "            {\"Location\": loc[\"Location\"], \"Food\": delta_food}\n",
       "        )\n",
       "    return [space]\n",
       "\n",
       "```"
      ],
      "text/plain": [
       "<IPython.core.display.Markdown object>"
      ]
     },
     "metadata": {},
     "output_type": "display_data"
    },
    {
     "name": "stdout",
     "output_type": "stream",
     "text": [
      "\n",
      "\n",
      "File path: /Users/seanmcowen/Dropbox/BlockScience/Predator-Prey-MSML/src/Implementations/Python/Policies/Site.py\n",
      "Relative file path: ./../src/Implementations/Python/Policies/Site.py\n",
      "\n",
      "\n",
      "\n",
      "\n",
      "--------------------Natural Death Policy--------------------\n"
     ]
    },
    {
     "data": {
      "text/markdown": [
       "```python\n",
       "def natural_death_policy(state, params, spaces):\n",
       "    agents = spaces[0][\"Agents\"]\n",
       "    space = {\n",
       "        \"Agents\": [\n",
       "            agent\n",
       "            for agent in agents\n",
       "            if agent[\"Age\"] >= params[\"Maximum Age Parameter\"] or agent[\"Food\"] <= 0\n",
       "        ]\n",
       "    }\n",
       "    return [space]\n",
       "\n",
       "```"
      ],
      "text/plain": [
       "<IPython.core.display.Markdown object>"
      ]
     },
     "metadata": {},
     "output_type": "display_data"
    },
    {
     "name": "stdout",
     "output_type": "stream",
     "text": [
      "\n",
      "\n",
      "File path: /Users/seanmcowen/Dropbox/BlockScience/Predator-Prey-MSML/src/Implementations/Python/Policies/Agent.py\n",
      "Relative file path: ./../src/Implementations/Python/Policies/Agent.py\n",
      "\n",
      "\n",
      "\n",
      "\n",
      "--------------------Increase Agent Age Policy--------------------\n"
     ]
    },
    {
     "data": {
      "text/markdown": [
       "```python\n",
       "def increase_agent_age_policy_plus1(state, params, spaces):\n",
       "    agents = spaces[0][\"Agents\"]\n",
       "    space1 = {\"Food Deltas\": [{\"Agent\": x, \"Delta Food\": -1} for x in agents]}\n",
       "    space2 = {\"Age Deltas\": [{\"Agent\": x, \"Delta Age\": 1} for x in agents]}\n",
       "    return [space1, space2]\n",
       "\n",
       "```"
      ],
      "text/plain": [
       "<IPython.core.display.Markdown object>"
      ]
     },
     "metadata": {},
     "output_type": "display_data"
    },
    {
     "name": "stdout",
     "output_type": "stream",
     "text": [
      "\n",
      "\n",
      "File path: /Users/seanmcowen/Dropbox/BlockScience/Predator-Prey-MSML/src/Implementations/Python/Policies/Agent.py\n",
      "Relative file path: ./../src/Implementations/Python/Policies/Agent.py\n",
      "\n",
      "\n",
      "\n",
      "\n",
      "--------------------Prey Feeding Policy--------------------\n"
     ]
    },
    {
     "data": {
      "text/markdown": [
       "```python\n",
       "def prey_eat_all_food_policy(state, params, spaces):\n",
       "    locations = [x[\"Location\"] for x in spaces[0][\"Agents\"]]\n",
       "    available_food = state[\"Metrics\"][\"Available Food Metric\"](\n",
       "        state, params, [{\"Locations\": locations}]\n",
       "    )\n",
       "    space1 = {\n",
       "        \"Food Locations\": [\n",
       "            {\"Location\": x, \"Food\": -y} for x, y in zip(locations, available_food)\n",
       "        ]\n",
       "    }\n",
       "    space2 = {\n",
       "        \"Food Deltas\": [\n",
       "            {\"Agent\": x, \"Delta Food\": y}\n",
       "            for x, y in zip(spaces[0][\"Agents\"], available_food)\n",
       "        ]\n",
       "    }\n",
       "    return [space1, space2]\n",
       "\n",
       "```"
      ],
      "text/plain": [
       "<IPython.core.display.Markdown object>"
      ]
     },
     "metadata": {},
     "output_type": "display_data"
    },
    {
     "name": "stdout",
     "output_type": "stream",
     "text": [
      "\n",
      "\n",
      "File path: /Users/seanmcowen/Dropbox/BlockScience/Predator-Prey-MSML/src/Implementations/Python/Policies/Agent.py\n",
      "Relative file path: ./../src/Implementations/Python/Policies/Agent.py\n",
      "\n",
      "\n",
      "\n",
      "\n",
      "--------------------DUMMY Update Dummy Entity Mechanism--------------------\n"
     ]
    },
    {
     "data": {
      "text/markdown": [
       "```python\n",
       "def dummy_update_dummy_entity_mechanism(state, params, spaces):\n",
       "    new_string = spaces[0][\"string\"]\n",
       "    new_length = spaces[0][\"length\"]\n",
       "    state[\"Dummy\"][\"Words\"] += new_string\n",
       "    state[\"Dummy\"][\"Total Length\"] += new_length\n",
       "\n",
       "```"
      ],
      "text/plain": [
       "<IPython.core.display.Markdown object>"
      ]
     },
     "metadata": {},
     "output_type": "display_data"
    },
    {
     "name": "stdout",
     "output_type": "stream",
     "text": [
      "\n",
      "\n",
      "File path: /Users/seanmcowen/Dropbox/BlockScience/Predator-Prey-MSML/src/Implementations/Python/Mechanisms/Dummy.py\n",
      "Relative file path: ./../src/Implementations/Python/Mechanisms/Dummy.py\n",
      "\n",
      "\n",
      "\n",
      "\n",
      "--------------------DUMMY Increment Time Mechanism--------------------\n"
     ]
    },
    {
     "data": {
      "text/markdown": [
       "```python\n",
       "def dummy_increment_time_mechanism(state, params, spaces):\n",
       "    state[\"Time\"] += 1\n",
       "\n",
       "```"
      ],
      "text/plain": [
       "<IPython.core.display.Markdown object>"
      ]
     },
     "metadata": {},
     "output_type": "display_data"
    },
    {
     "name": "stdout",
     "output_type": "stream",
     "text": [
      "\n",
      "\n",
      "File path: /Users/seanmcowen/Dropbox/BlockScience/Predator-Prey-MSML/src/Implementations/Python/Mechanisms/Dummy.py\n",
      "Relative file path: ./../src/Implementations/Python/Mechanisms/Dummy.py\n",
      "\n",
      "\n",
      "\n",
      "\n",
      "--------------------DUMMY Log Simulation Data Mechanism--------------------\n"
     ]
    },
    {
     "data": {
      "text/markdown": [
       "```python\n",
       "def dummy_log_simulation_data_mechanism(state, params, spaces):\n",
       "    state[\"Simulation Log\"].append(\n",
       "        {\n",
       "            \"Time\": state[\"Time\"],\n",
       "            \"Word\": state[\"Dummy\"][\"Words\"],\n",
       "            \"Length (Multiplied)\": state[\"Dummy\"][\"Total Length\"],\n",
       "        }\n",
       "    )\n",
       "\n",
       "```"
      ],
      "text/plain": [
       "<IPython.core.display.Markdown object>"
      ]
     },
     "metadata": {},
     "output_type": "display_data"
    },
    {
     "name": "stdout",
     "output_type": "stream",
     "text": [
      "\n",
      "\n",
      "File path: /Users/seanmcowen/Dropbox/BlockScience/Predator-Prey-MSML/src/Implementations/Python/Mechanisms/Dummy.py\n",
      "Relative file path: ./../src/Implementations/Python/Mechanisms/Dummy.py\n",
      "\n",
      "\n",
      "\n",
      "\n",
      "--------------------Update Food Locations Mechanism--------------------\n"
     ]
    },
    {
     "data": {
      "text/markdown": [
       "```python\n",
       "def update_food_locations_mechanism(state, params, spaces):\n",
       "    for loc in spaces[0][\"Food Locations\"]:\n",
       "        state[\"Sites Matrix\"][loc[\"Location\"][0]][loc[\"Location\"][1]][\"Food\"] += loc[\n",
       "            \"Food\"\n",
       "        ]\n",
       "\n",
       "```"
      ],
      "text/plain": [
       "<IPython.core.display.Markdown object>"
      ]
     },
     "metadata": {},
     "output_type": "display_data"
    },
    {
     "name": "stdout",
     "output_type": "stream",
     "text": [
      "\n",
      "\n",
      "File path: /Users/seanmcowen/Dropbox/BlockScience/Predator-Prey-MSML/src/Implementations/Python/Mechanisms/Site.py\n",
      "Relative file path: ./../src/Implementations/Python/Mechanisms/Site.py\n",
      "\n",
      "\n",
      "\n",
      "\n",
      "--------------------Remove Agents Mechanism--------------------\n"
     ]
    },
    {
     "data": {
      "text/markdown": [
       "```python\n",
       "def remove_agents_mechanism(state, params, spaces):\n",
       "    state[\"Agents\"] = [\n",
       "        agent for agent in state[\"Agents\"] if agent not in spaces[0][\"Agents\"]\n",
       "    ]\n",
       "    for agent in spaces[0][\"Agents\"]:\n",
       "        state[\"Sites Matrix\"][agent[\"Location\"][0]][agent[\"Location\"][1]][\n",
       "            \"Agent\"\n",
       "        ] = None\n",
       "\n",
       "```"
      ],
      "text/plain": [
       "<IPython.core.display.Markdown object>"
      ]
     },
     "metadata": {},
     "output_type": "display_data"
    },
    {
     "name": "stdout",
     "output_type": "stream",
     "text": [
      "\n",
      "\n",
      "File path: /Users/seanmcowen/Dropbox/BlockScience/Predator-Prey-MSML/src/Implementations/Python/Mechanisms/Agent.py\n",
      "Relative file path: ./../src/Implementations/Python/Mechanisms/Agent.py\n",
      "\n",
      "\n",
      "\n",
      "\n",
      "--------------------Update Food Mechanism--------------------\n"
     ]
    },
    {
     "data": {
      "text/markdown": [
       "```python\n",
       "def update_food_mechanism(state, params, spaces):\n",
       "    for values in spaces[0][\"Food Deltas\"]:\n",
       "        values[\"Agent\"][\"Food\"] += values[\"Delta Food\"]\n",
       "\n",
       "```"
      ],
      "text/plain": [
       "<IPython.core.display.Markdown object>"
      ]
     },
     "metadata": {},
     "output_type": "display_data"
    },
    {
     "name": "stdout",
     "output_type": "stream",
     "text": [
      "\n",
      "\n",
      "File path: /Users/seanmcowen/Dropbox/BlockScience/Predator-Prey-MSML/src/Implementations/Python/Mechanisms/Agent.py\n",
      "Relative file path: ./../src/Implementations/Python/Mechanisms/Agent.py\n",
      "\n",
      "\n",
      "\n",
      "\n",
      "--------------------Increase Agent Age Mechanism--------------------\n"
     ]
    },
    {
     "data": {
      "text/markdown": [
       "```python\n",
       "def update_agent_age_mechanism(state, params, spaces):\n",
       "    for values in spaces[0][\"Age Deltas\"]:\n",
       "        values[\"Agent\"][\"Age\"] += values[\"Delta Age\"]\n",
       "\n",
       "```"
      ],
      "text/plain": [
       "<IPython.core.display.Markdown object>"
      ]
     },
     "metadata": {},
     "output_type": "display_data"
    },
    {
     "name": "stdout",
     "output_type": "stream",
     "text": [
      "\n",
      "\n",
      "File path: /Users/seanmcowen/Dropbox/BlockScience/Predator-Prey-MSML/src/Implementations/Python/Mechanisms/Agent.py\n",
      "Relative file path: ./../src/Implementations/Python/Mechanisms/Agent.py\n",
      "\n",
      "\n",
      "\n",
      "\n"
     ]
    }
   ],
   "source": [
    "msi.print_source_code_files()"
   ]
  },
  {
   "cell_type": "markdown",
   "metadata": {},
   "source": [
    "## Update Food Locations Mechanism"
   ]
  },
  {
   "cell_type": "code",
   "execution_count": 3,
   "metadata": {},
   "outputs": [],
   "source": [
    "# Set the randomness to ensure the same outcome each time from random parts\n",
    "from random import seed\n",
    "seed(1)\n",
    "\n",
    "# Set the state and parameters\n",
    "state, params = msi.prepare_state_and_params(state_mech_test, params_mech_test,\n",
    "                                             state_preperation_functions=[create_sites, create_initial_agents],\n",
    "                                             parameter_preperation_functions=[])\n",
    "\n",
    "assert state[\"Agents\"] == [{'Age': 0, 'Agent Type': 'Prey', 'Food': 5, 'Location': (0, 1)},\n",
    " {'Age': 0, 'Agent Type': 'Prey', 'Food': 5, 'Location': (0, 0)},\n",
    " {'Age': 0, 'Agent Type': 'Prey', 'Food': 5, 'Location': (2, 0)},\n",
    " {'Age': 0, 'Agent Type': 'Predator', 'Food': 7, 'Location': (1, 0)},\n",
    " {'Age': 0, 'Agent Type': 'Predator', 'Food': 7, 'Location': (1, 1)}]\n",
    "\n",
    "assert state[\"Sites\"] == [{'Location': (0, 0),\n",
    "  'Food': 3,\n",
    "  'Agent': {'Age': 0, 'Agent Type': 'Prey', 'Food': 5, 'Location': (0, 0)}},\n",
    " {'Location': (0, 1),\n",
    "  'Food': 1,\n",
    "  'Agent': {'Age': 0, 'Agent Type': 'Prey', 'Food': 5, 'Location': (0, 1)}},\n",
    " {'Location': (1, 0),\n",
    "  'Food': 2,\n",
    "  'Agent': {'Age': 0,\n",
    "   'Agent Type': 'Predator',\n",
    "   'Food': 7,\n",
    "   'Location': (1, 0)}},\n",
    " {'Location': (1, 1),\n",
    "  'Food': 1,\n",
    "  'Agent': {'Age': 0,\n",
    "   'Agent Type': 'Predator',\n",
    "   'Food': 7,\n",
    "   'Location': (1, 1)}},\n",
    " {'Location': (2, 0),\n",
    "  'Food': 2,\n",
    "  'Agent': {'Age': 0, 'Agent Type': 'Prey', 'Food': 5, 'Location': (2, 0)}},\n",
    " {'Location': (2, 1), 'Food': 1, 'Agent': None}]\n",
    "\n",
    "spaces = [{'Food Locations': [{'Location': (0, 0), 'Food': 1},\n",
    "                              {'Location': (0, 1), 'Food': 1}]}]\n",
    "\n",
    "msi.mechanisms[\"Update Food Locations Mechanism\"](state, params, spaces)\n",
    "\n",
    "assert state[\"Agents\"] == [{'Age': 0, 'Agent Type': 'Prey', 'Food': 5, 'Location': (0, 1)},\n",
    " {'Age': 0, 'Agent Type': 'Prey', 'Food': 5, 'Location': (0, 0)},\n",
    " {'Age': 0, 'Agent Type': 'Prey', 'Food': 5, 'Location': (2, 0)},\n",
    " {'Age': 0, 'Agent Type': 'Predator', 'Food': 7, 'Location': (1, 0)},\n",
    " {'Age': 0, 'Agent Type': 'Predator', 'Food': 7, 'Location': (1, 1)}]\n",
    "\n",
    "assert state[\"Sites\"] == [{'Location': (0, 0),\n",
    "  'Food': 4,\n",
    "  'Agent': {'Age': 0, 'Agent Type': 'Prey', 'Food': 5, 'Location': (0, 0)}},\n",
    " {'Location': (0, 1),\n",
    "  'Food': 2,\n",
    "  'Agent': {'Age': 0, 'Agent Type': 'Prey', 'Food': 5, 'Location': (0, 1)}},\n",
    " {'Location': (1, 0),\n",
    "  'Food': 2,\n",
    "  'Agent': {'Age': 0,\n",
    "   'Agent Type': 'Predator',\n",
    "   'Food': 7,\n",
    "   'Location': (1, 0)}},\n",
    " {'Location': (1, 1),\n",
    "  'Food': 1,\n",
    "  'Agent': {'Age': 0,\n",
    "   'Agent Type': 'Predator',\n",
    "   'Food': 7,\n",
    "   'Location': (1, 1)}},\n",
    " {'Location': (2, 0),\n",
    "  'Food': 2,\n",
    "  'Agent': {'Age': 0, 'Agent Type': 'Prey', 'Food': 5, 'Location': (2, 0)}},\n",
    " {'Location': (2, 1), 'Food': 1, 'Agent': None}]"
   ]
  },
  {
   "cell_type": "markdown",
   "metadata": {},
   "source": [
    "## Update Food Mechanism"
   ]
  },
  {
   "cell_type": "code",
   "execution_count": 4,
   "metadata": {},
   "outputs": [],
   "source": [
    "# Set the randomness to ensure the same outcome each time from random parts\n",
    "from random import seed\n",
    "seed(1)\n",
    "\n",
    "# Set the state and parameters\n",
    "state, params = msi.prepare_state_and_params(state_mech_test, params_mech_test,\n",
    "                                             state_preperation_functions=[create_sites, create_initial_agents],\n",
    "                                             parameter_preperation_functions=[])\n",
    "\n",
    "assert state[\"Agents\"] == [{'Age': 0, 'Agent Type': 'Prey', 'Food': 5, 'Location': (0, 1)},\n",
    " {'Age': 0, 'Agent Type': 'Prey', 'Food': 5, 'Location': (0, 0)},\n",
    " {'Age': 0, 'Agent Type': 'Prey', 'Food': 5, 'Location': (2, 0)},\n",
    " {'Age': 0, 'Agent Type': 'Predator', 'Food': 7, 'Location': (1, 0)},\n",
    " {'Age': 0, 'Agent Type': 'Predator', 'Food': 7, 'Location': (1, 1)}]\n",
    "\n",
    "assert state[\"Sites\"] == [{'Location': (0, 0),\n",
    "  'Food': 3,\n",
    "  'Agent': {'Age': 0, 'Agent Type': 'Prey', 'Food': 5, 'Location': (0, 0)}},\n",
    " {'Location': (0, 1),\n",
    "  'Food': 1,\n",
    "  'Agent': {'Age': 0, 'Agent Type': 'Prey', 'Food': 5, 'Location': (0, 1)}},\n",
    " {'Location': (1, 0),\n",
    "  'Food': 2,\n",
    "  'Agent': {'Age': 0,\n",
    "   'Agent Type': 'Predator',\n",
    "   'Food': 7,\n",
    "   'Location': (1, 0)}},\n",
    " {'Location': (1, 1),\n",
    "  'Food': 1,\n",
    "  'Agent': {'Age': 0,\n",
    "   'Agent Type': 'Predator',\n",
    "   'Food': 7,\n",
    "   'Location': (1, 1)}},\n",
    " {'Location': (2, 0),\n",
    "  'Food': 2,\n",
    "  'Agent': {'Age': 0, 'Agent Type': 'Prey', 'Food': 5, 'Location': (2, 0)}},\n",
    " {'Location': (2, 1), 'Food': 1, 'Agent': None}]\n",
    "\n",
    "spaces = [{'Food Deltas': [{'Agent': state[\"Agents\"][0],\n",
    "    'Delta Food': 2},\n",
    "    {'Agent': state[\"Agents\"][1],\n",
    "    'Delta Food': 2}]}]\n",
    "\n",
    "msi.mechanisms[\"Update Food Mechanism\"](state, params, spaces)\n",
    "\n",
    "assert state[\"Agents\"] == [{'Age': 0, 'Agent Type': 'Prey', 'Food': 7, 'Location': (0, 1)},\n",
    " {'Age': 0, 'Agent Type': 'Prey', 'Food': 7, 'Location': (0, 0)},\n",
    " {'Age': 0, 'Agent Type': 'Prey', 'Food': 5, 'Location': (2, 0)},\n",
    " {'Age': 0, 'Agent Type': 'Predator', 'Food': 7, 'Location': (1, 0)},\n",
    " {'Age': 0, 'Agent Type': 'Predator', 'Food': 7, 'Location': (1, 1)}]\n",
    "\n",
    "assert state[\"Sites\"] == [{'Location': (0, 0),\n",
    "  'Food': 3,\n",
    "  'Agent': {'Age': 0, 'Agent Type': 'Prey', 'Food': 7, 'Location': (0, 0)}},\n",
    " {'Location': (0, 1),\n",
    "  'Food': 1,\n",
    "  'Agent': {'Age': 0, 'Agent Type': 'Prey', 'Food': 7, 'Location': (0, 1)}},\n",
    " {'Location': (1, 0),\n",
    "  'Food': 2,\n",
    "  'Agent': {'Age': 0,\n",
    "   'Agent Type': 'Predator',\n",
    "   'Food': 7,\n",
    "   'Location': (1, 0)}},\n",
    " {'Location': (1, 1),\n",
    "  'Food': 1,\n",
    "  'Agent': {'Age': 0,\n",
    "   'Agent Type': 'Predator',\n",
    "   'Food': 7,\n",
    "   'Location': (1, 1)}},\n",
    " {'Location': (2, 0),\n",
    "  'Food': 2,\n",
    "  'Agent': {'Age': 0, 'Agent Type': 'Prey', 'Food': 5, 'Location': (2, 0)}},\n",
    " {'Location': (2, 1), 'Food': 1, 'Agent': None}]"
   ]
  },
  {
   "cell_type": "markdown",
   "metadata": {},
   "source": [
    "## Remove Agents Mechanism"
   ]
  },
  {
   "cell_type": "code",
   "execution_count": 5,
   "metadata": {},
   "outputs": [],
   "source": [
    "# Set the randomness to ensure the same outcome each time from random parts\n",
    "from random import seed\n",
    "seed(1)\n",
    "\n",
    "# Set the state and parameters\n",
    "state, params = msi.prepare_state_and_params(state_mech_test, params_mech_test,\n",
    "                                             state_preperation_functions=[create_sites, create_initial_agents],\n",
    "                                             parameter_preperation_functions=[])\n",
    "\n",
    "assert state[\"Agents\"] == [{'Age': 0, 'Agent Type': 'Prey', 'Food': 5, 'Location': (0, 1)},\n",
    " {'Age': 0, 'Agent Type': 'Prey', 'Food': 5, 'Location': (0, 0)},\n",
    " {'Age': 0, 'Agent Type': 'Prey', 'Food': 5, 'Location': (2, 0)},\n",
    " {'Age': 0, 'Agent Type': 'Predator', 'Food': 7, 'Location': (1, 0)},\n",
    " {'Age': 0, 'Agent Type': 'Predator', 'Food': 7, 'Location': (1, 1)}]\n",
    "\n",
    "assert state[\"Sites\"] == [{'Location': (0, 0),\n",
    "  'Food': 3,\n",
    "  'Agent': {'Age': 0, 'Agent Type': 'Prey', 'Food': 5, 'Location': (0, 0)}},\n",
    " {'Location': (0, 1),\n",
    "  'Food': 1,\n",
    "  'Agent': {'Age': 0, 'Agent Type': 'Prey', 'Food': 5, 'Location': (0, 1)}},\n",
    " {'Location': (1, 0),\n",
    "  'Food': 2,\n",
    "  'Agent': {'Age': 0,\n",
    "   'Agent Type': 'Predator',\n",
    "   'Food': 7,\n",
    "   'Location': (1, 0)}},\n",
    " {'Location': (1, 1),\n",
    "  'Food': 1,\n",
    "  'Agent': {'Age': 0,\n",
    "   'Agent Type': 'Predator',\n",
    "   'Food': 7,\n",
    "   'Location': (1, 1)}},\n",
    " {'Location': (2, 0),\n",
    "  'Food': 2,\n",
    "  'Agent': {'Age': 0, 'Agent Type': 'Prey', 'Food': 5, 'Location': (2, 0)}},\n",
    " {'Location': (2, 1), 'Food': 1, 'Agent': None}]\n",
    "\n",
    "spaces = [{\"Agents\": [state[\"Agents\"][0]]}]\n",
    "msi.blocks[\"Remove Agents Mechanism\"](state, params, spaces)\n",
    "\n",
    "assert state[\"Agents\"] == [{'Age': 0, 'Agent Type': 'Prey', 'Food': 5, 'Location': (0, 0)},\n",
    " {'Age': 0, 'Agent Type': 'Prey', 'Food': 5, 'Location': (2, 0)},\n",
    " {'Age': 0, 'Agent Type': 'Predator', 'Food': 7, 'Location': (1, 0)},\n",
    " {'Age': 0, 'Agent Type': 'Predator', 'Food': 7, 'Location': (1, 1)}]\n",
    "\n",
    "assert state[\"Sites\"] == [{'Location': (0, 0),\n",
    "  'Food': 3,\n",
    "  'Agent': {'Age': 0, 'Agent Type': 'Prey', 'Food': 5, 'Location': (0, 0)}},\n",
    " {'Location': (0, 1),\n",
    "  'Food': 1,\n",
    "  'Agent': None},\n",
    " {'Location': (1, 0),\n",
    "  'Food': 2,\n",
    "  'Agent': {'Age': 0,\n",
    "   'Agent Type': 'Predator',\n",
    "   'Food': 7,\n",
    "   'Location': (1, 0)}},\n",
    " {'Location': (1, 1),\n",
    "  'Food': 1,\n",
    "  'Agent': {'Age': 0,\n",
    "   'Agent Type': 'Predator',\n",
    "   'Food': 7,\n",
    "   'Location': (1, 1)}},\n",
    " {'Location': (2, 0),\n",
    "  'Food': 2,\n",
    "  'Agent': {'Age': 0, 'Agent Type': 'Prey', 'Food': 5, 'Location': (2, 0)}},\n",
    " {'Location': (2, 1), 'Food': 1, 'Agent': None}]"
   ]
  },
  {
   "cell_type": "markdown",
   "metadata": {},
   "source": [
    "## Create Agents Mechanism"
   ]
  },
  {
   "cell_type": "code",
   "execution_count": null,
   "metadata": {},
   "outputs": [],
   "source": []
  },
  {
   "cell_type": "markdown",
   "metadata": {},
   "source": [
    "## Increase Agent Age Mechanism"
   ]
  },
  {
   "cell_type": "code",
   "execution_count": null,
   "metadata": {},
   "outputs": [],
   "source": []
  },
  {
   "cell_type": "markdown",
   "metadata": {},
   "source": [
    "## Update Agent Locations Mechanism"
   ]
  },
  {
   "cell_type": "code",
   "execution_count": null,
   "metadata": {},
   "outputs": [],
   "source": []
  }
 ],
 "metadata": {
  "kernelspec": {
   "display_name": "MSML",
   "language": "python",
   "name": "python3"
  },
  "language_info": {
   "codemirror_mode": {
    "name": "ipython",
    "version": 3
   },
   "file_extension": ".py",
   "mimetype": "text/x-python",
   "name": "python",
   "nbconvert_exporter": "python",
   "pygments_lexer": "ipython3",
   "version": "3.9.19"
  }
 },
 "nbformat": 4,
 "nbformat_minor": 2
}
