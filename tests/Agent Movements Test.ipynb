{
 "cells": [
  {
   "cell_type": "code",
   "execution_count": 1,
   "metadata": {},
   "outputs": [
    {
     "name": "stdout",
     "output_type": "stream",
     "text": [
      "No python implementation for Agent Movement Boundary Action / All Agents Movement. To fix this, go to Implementations/Python/BoundaryActions and add All Agents Movement\n"
     ]
    }
   ],
   "source": [
    "import sys\n",
    "import os\n",
    "\n",
    "sys.path.append(os.path.abspath('..'))\n",
    "\n",
    "\n",
    "from simulation import params_agent_movement_test, state_agent_movement_test, create_sites, create_initial_agents\n",
    "\n",
    "from math_spec_mapping import load_from_json\n",
    "\n",
    "\"\"\"# For development purposes\n",
    "sys.path.append(os.path.abspath('../..'))\n",
    "from MSML.src.math_spec_mapping import (load_from_json)\"\"\"\n",
    "\n",
    "from copy import deepcopy\n",
    "from src import math_spec_json\n",
    "\n",
    "ms = load_from_json(deepcopy(math_spec_json))\n",
    "\n",
    "msi = ms.build_implementation(params_agent_movement_test)"
   ]
  },
  {
   "cell_type": "code",
   "execution_count": 2,
   "metadata": {},
   "outputs": [
    {
     "ename": "AssertionError",
     "evalue": "",
     "output_type": "error",
     "traceback": [
      "\u001b[0;31m---------------------------------------------------------------------------\u001b[0m",
      "\u001b[0;31mAssertionError\u001b[0m                            Traceback (most recent call last)",
      "Cell \u001b[0;32mIn[2], line 39\u001b[0m\n\u001b[1;32m     15\u001b[0m \u001b[38;5;28;01massert\u001b[39;00m state[\u001b[38;5;124m\"\u001b[39m\u001b[38;5;124mSites\u001b[39m\u001b[38;5;124m\"\u001b[39m] \u001b[38;5;241m==\u001b[39m [{\u001b[38;5;124m'\u001b[39m\u001b[38;5;124mLocation\u001b[39m\u001b[38;5;124m'\u001b[39m: (\u001b[38;5;241m0\u001b[39m, \u001b[38;5;241m0\u001b[39m),\n\u001b[1;32m     16\u001b[0m   \u001b[38;5;124m'\u001b[39m\u001b[38;5;124mFood\u001b[39m\u001b[38;5;124m'\u001b[39m: \u001b[38;5;241m2\u001b[39m,\n\u001b[1;32m     17\u001b[0m   \u001b[38;5;124m'\u001b[39m\u001b[38;5;124mAgent\u001b[39m\u001b[38;5;124m'\u001b[39m: {\u001b[38;5;124m'\u001b[39m\u001b[38;5;124mAge\u001b[39m\u001b[38;5;124m'\u001b[39m: \u001b[38;5;241m0\u001b[39m, \u001b[38;5;124m'\u001b[39m\u001b[38;5;124mAgent Type\u001b[39m\u001b[38;5;124m'\u001b[39m: \u001b[38;5;124m'\u001b[39m\u001b[38;5;124mPrey\u001b[39m\u001b[38;5;124m'\u001b[39m, \u001b[38;5;124m'\u001b[39m\u001b[38;5;124mFood\u001b[39m\u001b[38;5;124m'\u001b[39m: \u001b[38;5;241m5\u001b[39m, \u001b[38;5;124m'\u001b[39m\u001b[38;5;124mLocation\u001b[39m\u001b[38;5;124m'\u001b[39m: (\u001b[38;5;241m0\u001b[39m, \u001b[38;5;241m0\u001b[39m)}},\n\u001b[0;32m   (...)\u001b[0m\n\u001b[1;32m     35\u001b[0m    \u001b[38;5;124m'\u001b[39m\u001b[38;5;124mLocation\u001b[39m\u001b[38;5;124m'\u001b[39m: (\u001b[38;5;241m2\u001b[39m, \u001b[38;5;241m0\u001b[39m)}},\n\u001b[1;32m     36\u001b[0m  {\u001b[38;5;124m'\u001b[39m\u001b[38;5;124mLocation\u001b[39m\u001b[38;5;124m'\u001b[39m: (\u001b[38;5;241m2\u001b[39m, \u001b[38;5;241m1\u001b[39m), \u001b[38;5;124m'\u001b[39m\u001b[38;5;124mFood\u001b[39m\u001b[38;5;124m'\u001b[39m: \u001b[38;5;241m3\u001b[39m, \u001b[38;5;124m'\u001b[39m\u001b[38;5;124mAgent\u001b[39m\u001b[38;5;124m'\u001b[39m: \u001b[38;5;28;01mNone\u001b[39;00m}]\n\u001b[1;32m     38\u001b[0m spaces \u001b[38;5;241m=\u001b[39m msi\u001b[38;5;241m.\u001b[39mcomponents[\u001b[38;5;124m\"\u001b[39m\u001b[38;5;124mHunt Prey Boundary Action\u001b[39m\u001b[38;5;124m\"\u001b[39m](state, params, [])\n\u001b[0;32m---> 39\u001b[0m \u001b[38;5;28;01massert\u001b[39;00m spaces \u001b[38;5;241m==\u001b[39m [{\u001b[38;5;124m'\u001b[39m\u001b[38;5;124mAgents\u001b[39m\u001b[38;5;124m'\u001b[39m: [{\u001b[38;5;124m'\u001b[39m\u001b[38;5;124mAge\u001b[39m\u001b[38;5;124m'\u001b[39m: \u001b[38;5;241m0\u001b[39m,\n\u001b[1;32m     40\u001b[0m     \u001b[38;5;124m'\u001b[39m\u001b[38;5;124mAgent Type\u001b[39m\u001b[38;5;124m'\u001b[39m: \u001b[38;5;124m'\u001b[39m\u001b[38;5;124mPredator\u001b[39m\u001b[38;5;124m'\u001b[39m,\n\u001b[1;32m     41\u001b[0m     \u001b[38;5;124m'\u001b[39m\u001b[38;5;124mFood\u001b[39m\u001b[38;5;124m'\u001b[39m: \u001b[38;5;241m7\u001b[39m,\n\u001b[1;32m     42\u001b[0m     \u001b[38;5;124m'\u001b[39m\u001b[38;5;124mLocation\u001b[39m\u001b[38;5;124m'\u001b[39m: (\u001b[38;5;241m1\u001b[39m, \u001b[38;5;241m1\u001b[39m)},\n\u001b[1;32m     43\u001b[0m    {\u001b[38;5;124m'\u001b[39m\u001b[38;5;124mAge\u001b[39m\u001b[38;5;124m'\u001b[39m: \u001b[38;5;241m0\u001b[39m, \u001b[38;5;124m'\u001b[39m\u001b[38;5;124mAgent Type\u001b[39m\u001b[38;5;124m'\u001b[39m: \u001b[38;5;124m'\u001b[39m\u001b[38;5;124mPredator\u001b[39m\u001b[38;5;124m'\u001b[39m, \u001b[38;5;124m'\u001b[39m\u001b[38;5;124mFood\u001b[39m\u001b[38;5;124m'\u001b[39m: \u001b[38;5;241m7\u001b[39m, \u001b[38;5;124m'\u001b[39m\u001b[38;5;124mLocation\u001b[39m\u001b[38;5;124m'\u001b[39m: (\u001b[38;5;241m2\u001b[39m, \u001b[38;5;241m0\u001b[39m)}]}]\n",
      "\u001b[0;31mAssertionError\u001b[0m: "
     ]
    }
   ],
   "source": [
    "# Set the randomness to ensure the same outcome each time from random parts\n",
    "from random import seed\n",
    "seed(2)\n",
    "\n",
    "# Set the state and parameters\n",
    "state, params = msi.prepare_state_and_params(state_agent_movement_test, params_agent_movement_test,\n",
    "                                             state_preperation_functions=[create_sites, create_initial_agents],\n",
    "                                             parameter_preperation_functions=[])\n",
    "assert state[\"Agents\"] == [{'Age': 0, 'Agent Type': 'Prey', 'Food': 5, 'Location': (0, 0)},\n",
    " {'Age': 0, 'Agent Type': 'Prey', 'Food': 5, 'Location': (0, 1)},\n",
    " {'Age': 0, 'Agent Type': 'Predator', 'Food': 7, 'Location': (1, 1)},\n",
    " {'Age': 0, 'Agent Type': 'Prey', 'Food': 5, 'Location': (1, 0)},\n",
    " {'Age': 0, 'Agent Type': 'Predator', 'Food': 7, 'Location': (2, 0)}]\n",
    "\n",
    "assert state[\"Sites\"] == [{'Location': (0, 0),\n",
    "  'Food': 2,\n",
    "  'Agent': {'Age': 0, 'Agent Type': 'Prey', 'Food': 5, 'Location': (0, 0)}},\n",
    " {'Location': (0, 1),\n",
    "  'Food': 1,\n",
    "  'Agent': {'Age': 0, 'Agent Type': 'Prey', 'Food': 5, 'Location': (0, 1)}},\n",
    " {'Location': (1, 0),\n",
    "  'Food': 0,\n",
    "  'Agent': {'Age': 0, 'Agent Type': 'Prey', 'Food': 5, 'Location': (1, 0)}},\n",
    " {'Location': (1, 1),\n",
    "  'Food': 2,\n",
    "  'Agent': {'Age': 0,\n",
    "   'Agent Type': 'Predator',\n",
    "   'Food': 7,\n",
    "   'Location': (1, 1)}},\n",
    " {'Location': (2, 0),\n",
    "  'Food': 2,\n",
    "  'Agent': {'Age': 0,\n",
    "   'Agent Type': 'Predator',\n",
    "   'Food': 7,\n",
    "   'Location': (2, 0)}},\n",
    " {'Location': (2, 1), 'Food': 3, 'Agent': None}]\n",
    "\n",
    "spaces = msi.components[\"Agent Movement Boundary Action\"](state, params, [])\n"
   ]
  }
 ],
 "metadata": {
  "kernelspec": {
   "display_name": "MSML",
   "language": "python",
   "name": "python3"
  },
  "language_info": {
   "codemirror_mode": {
    "name": "ipython",
    "version": 3
   },
   "file_extension": ".py",
   "mimetype": "text/x-python",
   "name": "python",
   "nbconvert_exporter": "python",
   "pygments_lexer": "ipython3",
   "version": "3.9.19"
  }
 },
 "nbformat": 4,
 "nbformat_minor": 2
}
