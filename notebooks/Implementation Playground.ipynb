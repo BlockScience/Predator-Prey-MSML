{
 "cells": [
  {
   "cell_type": "markdown",
   "metadata": {},
   "source": [
    "# Implementation Playground"
   ]
  },
  {
   "cell_type": "code",
   "execution_count": 1,
   "metadata": {},
   "outputs": [],
   "source": [
    "import sys\n",
    "import os\n",
    "\n",
    "sys.path.append(os.path.abspath('..'))\n",
    "\n",
    "\n",
    "from simulation import params_base, state_base, create_sites, create_initial_agents\n",
    "\n",
    "from math_spec_mapping import load_from_json\n",
    "\n",
    "\"\"\"# For development purposes\n",
    "sys.path.append(os.path.abspath('../..'))\n",
    "from MSML.src.math_spec_mapping import (load_from_json)\"\"\"\n",
    "\n",
    "from copy import deepcopy\n",
    "from src import math_spec_json\n",
    "\n",
    "ms = load_from_json(deepcopy(math_spec_json))\n",
    "\n",
    "msi = ms.build_implementation(params_base)\n",
    "state, params = msi.prepare_state_and_params(state_base, params_base,\n",
    "                                             state_preperation_functions=[create_sites, create_initial_agents],\n",
    "                                             parameter_preperation_functions=[])"
   ]
  },
  {
   "cell_type": "code",
   "execution_count": 3,
   "metadata": {},
   "outputs": [
    {
     "data": {
      "text/plain": [
       "[{'Agents': [{'Age': 0, 'Agent Type': 'Prey', 'Food': 5, 'Location': (4, 1)},\n",
       "   {'Age': 0, 'Agent Type': 'Prey', 'Food': 5, 'Location': (3, 2)},\n",
       "   {'Age': 0, 'Agent Type': 'Prey', 'Food': 5, 'Location': (1, 0)},\n",
       "   {'Age': 0, 'Agent Type': 'Prey', 'Food': 5, 'Location': (1, 1)},\n",
       "   {'Age': 0, 'Agent Type': 'Prey', 'Food': 5, 'Location': (4, 0)}]}]"
      ]
     },
     "execution_count": 3,
     "metadata": {},
     "output_type": "execute_result"
    }
   ],
   "source": [
    "msi.blocks[\"Prey Feeding Boundary Action\"](state, params, [])"
   ]
  }
 ],
 "metadata": {
  "kernelspec": {
   "display_name": "MSML",
   "language": "python",
   "name": "python3"
  },
  "language_info": {
   "codemirror_mode": {
    "name": "ipython",
    "version": 3
   },
   "file_extension": ".py",
   "mimetype": "text/x-python",
   "name": "python",
   "nbconvert_exporter": "python",
   "pygments_lexer": "ipython3",
   "version": "3.9.19"
  }
 },
 "nbformat": 4,
 "nbformat_minor": 2
}
