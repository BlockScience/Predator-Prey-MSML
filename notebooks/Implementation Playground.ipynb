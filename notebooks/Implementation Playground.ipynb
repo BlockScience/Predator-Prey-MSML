{
 "cells": [
  {
   "cell_type": "markdown",
   "metadata": {},
   "source": [
    "# Implementation Playground"
   ]
  },
  {
   "cell_type": "code",
   "execution_count": 1,
   "metadata": {},
   "outputs": [],
   "source": [
    "import sys\n",
    "import os\n",
    "\n",
    "sys.path.append(os.path.abspath('..'))\n",
    "\n",
    "\n",
    "from simulation import params_base, state_base, compute_starting_total_length, check_d_probability\n",
    "\n",
    "from math_spec_mapping import load_from_json\n",
    "\n",
    "\"\"\"# For development purposes\n",
    "sys.path.append(os.path.abspath('../..'))\n",
    "from MSML.src.math_spec_mapping import (load_from_json)\"\"\"\n",
    "\n",
    "from copy import deepcopy\n",
    "from src import math_spec_json\n",
    "\n",
    "ms = load_from_json(deepcopy(math_spec_json))\n",
    "\n",
    "msi = ms.build_implementation(params_base)\n",
    "state, params = msi.prepare_state_and_params(state_base, params_base,\n",
    "                                             state_preperation_functions=[compute_starting_total_length],\n",
    "                                             parameter_preperation_functions=[check_d_probability])"
   ]
  },
  {
   "cell_type": "markdown",
   "metadata": {},
   "source": [
    "## Test Out a Control Action"
   ]
  },
  {
   "cell_type": "code",
   "execution_count": null,
   "metadata": {},
   "outputs": [],
   "source": [
    "spaces = []\n",
    "spaces = msi.components[\"DUMMY Length-1 DEF Control Action\"](state, params, spaces)\n",
    "print(spaces)"
   ]
  },
  {
   "cell_type": "markdown",
   "metadata": {},
   "source": [
    "## Test out a Policy"
   ]
  },
  {
   "cell_type": "code",
   "execution_count": null,
   "metadata": {},
   "outputs": [],
   "source": [
    "spaces = [{'string': 'E'}]\n",
    "spaces = msi.components[\"DUMMY Letter Count Policy\"](state, params, spaces)\n",
    "print(spaces)"
   ]
  },
  {
   "cell_type": "markdown",
   "metadata": {},
   "source": [
    "## Combine the Two"
   ]
  },
  {
   "cell_type": "code",
   "execution_count": null,
   "metadata": {},
   "outputs": [],
   "source": [
    "spaces = []\n",
    "spaces = msi.components[\"DUMMY Length-1 DEF Control Action\"](state, params, spaces)\n",
    "spaces = msi.components[\"DUMMY Letter Count Policy\"](state, params, spaces)\n",
    "print(spaces)"
   ]
  },
  {
   "cell_type": "markdown",
   "metadata": {},
   "source": [
    "## Test a Mechanism"
   ]
  },
  {
   "cell_type": "code",
   "execution_count": null,
   "metadata": {},
   "outputs": [],
   "source": [
    "print(\"State Before:\")\n",
    "print(state)\n",
    "spaces = [{'string': 'F', 'unique_length': 1, 'length': 3}]\n",
    "msi.components[\"DUMMY Update Dummy Entity Mechanism\"](state, params, spaces)\n",
    "print()\n",
    "print(\"State After:\")\n",
    "print(state)"
   ]
  },
  {
   "cell_type": "markdown",
   "metadata": {},
   "source": [
    "## Play with Stateful Metrics & Metrics"
   ]
  },
  {
   "cell_type": "code",
   "execution_count": null,
   "metadata": {},
   "outputs": [],
   "source": [
    "spaces = [{'string': 'E'}]\n",
    "print(state[\"Metrics\"][\"DUMMY Multiplied Length Metric\"](state, params, spaces))"
   ]
  },
  {
   "cell_type": "code",
   "execution_count": null,
   "metadata": {},
   "outputs": [],
   "source": [
    "print(state[\"Stateful Metrics\"][\"DUMMY Nominal Length Stateful Metric\"](state, params))"
   ]
  },
  {
   "cell_type": "markdown",
   "metadata": {},
   "source": [
    "## Run an Entire Wiring\n",
    "\n",
    "Notice here that two new mechanisms also get run, one for incrementing time and one for logging simulation data!"
   ]
  },
  {
   "cell_type": "code",
   "execution_count": null,
   "metadata": {},
   "outputs": [],
   "source": [
    "# Reset state, params\n",
    "state, params = msi.prepare_state_and_params(state_base, params_base,\n",
    "                                             state_preperation_functions=[compute_starting_total_length],\n",
    "                                             parameter_preperation_functions=[check_d_probability])\n",
    "\n",
    "print(\"State Before:\")\n",
    "print(state)\n",
    "spaces = []\n",
    "msi.wiring[\"DUMMY Control Wiring\"](state, params, spaces)\n",
    "print()\n",
    "print(\"State After:\")\n",
    "print(state)"
   ]
  }
 ],
 "metadata": {
  "kernelspec": {
   "display_name": "MSML",
   "language": "python",
   "name": "python3"
  },
  "language_info": {
   "codemirror_mode": {
    "name": "ipython",
    "version": 3
   },
   "file_extension": ".py",
   "mimetype": "text/x-python",
   "name": "python",
   "nbconvert_exporter": "python",
   "pygments_lexer": "ipython3",
   "version": "3.9.19"
  }
 },
 "nbformat": 4,
 "nbformat_minor": 2
}
