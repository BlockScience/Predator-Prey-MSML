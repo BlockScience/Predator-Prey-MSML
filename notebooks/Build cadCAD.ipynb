{
 "cells": [
  {
   "cell_type": "code",
   "execution_count": 1,
   "metadata": {},
   "outputs": [
    {
     "data": {
      "text/plain": [
       "'experiment_names = [\"Baseline\", \"Control Option V2 Low D Probability\", \"Control Option V2 High D Probability\"]\\nexperiments = [experiments_map[x] for x in experiment_names]\\n\\n\\ndf, metrics, state_l, params_l = ms.run_experiments(experiments,\\n                    params_base,\\n                    state_base,\\n                    post_processing_function,\\n                    state_preperation_functions=[compute_starting_total_length],\\n                    parameter_preperation_functions=[check_d_probability],\\n                    metrics_functions=[percent_ending_in_d_metric,\\n                                        average_d_count_metric,\\n                                        ])'"
      ]
     },
     "execution_count": 1,
     "metadata": {},
     "output_type": "execute_result"
    }
   ],
   "source": [
    "import sys\n",
    "import os\n",
    "\n",
    "sys.path.append(os.path.abspath('..'))\n",
    "\n",
    "from simulation import params_agent_movement_test, state_agent_movement_test, create_sites, create_initial_agents\n",
    "from IPython.display import display, Markdown\n",
    "#from math_spec_mapping import load_from_json, write_initial_state_variables_tables, write_parameter_table_markdown\n",
    "\n",
    "# For development purposes\n",
    "sys.path.append(os.path.abspath('../..'))\n",
    "from MSML.src.math_spec_mapping import (load_from_json, write_initial_state_variables_tables, write_parameter_table_markdown)\n",
    "\n",
    "from copy import deepcopy\n",
    "from src import math_spec_json\n",
    "\n",
    "ms = load_from_json(deepcopy(math_spec_json))\n",
    "\n",
    "\"\"\"experiment_names = [\"Baseline\", \"Control Option V2 Low D Probability\", \"Control Option V2 High D Probability\"]\n",
    "experiments = [experiments_map[x] for x in experiment_names]\n",
    "\n",
    "\n",
    "df, metrics, state_l, params_l = ms.run_experiments(experiments,\n",
    "                    params_base,\n",
    "                    state_base,\n",
    "                    post_processing_function,\n",
    "                    state_preperation_functions=[compute_starting_total_length],\n",
    "                    parameter_preperation_functions=[check_d_probability],\n",
    "                    metrics_functions=[percent_ending_in_d_metric,\n",
    "                                        average_d_count_metric,\n",
    "                                        ])\"\"\""
   ]
  },
  {
   "cell_type": "code",
   "execution_count": 2,
   "metadata": {},
   "outputs": [
    {
     "name": "stdout",
     "output_type": "stream",
     "text": [
      "{'Global State': <MSML.src.math_spec_mapping.Classes.State.State object at 0x7ff588ca79d0>, 'Agent State': <MSML.src.math_spec_mapping.Classes.State.State object at 0x7ff588ca7ac0>, 'Site State': <MSML.src.math_spec_mapping.Classes.State.State object at 0x7ff588ca7bb0>}\n"
     ]
    }
   ],
   "source": [
    "ms.build_cadCAD()"
   ]
  },
  {
   "cell_type": "code",
   "execution_count": 3,
   "metadata": {},
   "outputs": [
    {
     "name": "stdout",
     "output_type": "stream",
     "text": [
      "{'Simulation Log': typing.List[src.TypeMappings.types.Simulation Log], 'Timestep': <class 'int'>, 'Agents': <class 'object'>, 'Sites': <class 'object'>}\n"
     ]
    }
   ],
   "source": [
    "state = ms.state[\"Global State\"]\n",
    "state_map = {}\n",
    "for variable in state.variables:\n",
    "    if \"python\" in variable.type.type:\n",
    "        state_map[variable.name] = variable.type.type[\"python\"]\n",
    "    else:\n",
    "        state_map[variable.name] = None\n",
    "\n",
    "print(state_map)"
   ]
  },
  {
   "cell_type": "code",
   "execution_count": 18,
   "metadata": {},
   "outputs": [],
   "source": [
    "from typing import List, TypedDict"
   ]
  },
  {
   "cell_type": "code",
   "execution_count": 10,
   "metadata": {},
   "outputs": [],
   "source": []
  },
  {
   "cell_type": "code",
   "execution_count": null,
   "metadata": {},
   "outputs": [],
   "source": []
  },
  {
   "cell_type": "code",
   "execution_count": null,
   "metadata": {},
   "outputs": [],
   "source": []
  }
 ],
 "metadata": {
  "kernelspec": {
   "display_name": "MSML",
   "language": "python",
   "name": "python3"
  },
  "language_info": {
   "codemirror_mode": {
    "name": "ipython",
    "version": 3
   },
   "file_extension": ".py",
   "mimetype": "text/x-python",
   "name": "python",
   "nbconvert_exporter": "python",
   "pygments_lexer": "ipython3",
   "version": "3.9.19"
  }
 },
 "nbformat": 4,
 "nbformat_minor": 2
}
