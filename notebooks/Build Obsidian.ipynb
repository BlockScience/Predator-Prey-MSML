{
 "cells": [
  {
   "cell_type": "markdown",
   "metadata": {},
   "source": [
    "# Build Obsidian Notebook\n",
    "\n",
    "The following notebook is used to build out the Obsidian markdown files for easily visualizing and understanding the system and its linkages.\n",
    "\n",
    "## Load Functionalities\n",
    "\n",
    "- The code block below loads all necessary code\n",
    "- The appending of a path is for the path to the math_spec_json object. In this case it is a folder up because we call \"from src import math_spec_json\""
   ]
  },
  {
   "cell_type": "code",
   "execution_count": 1,
   "metadata": {},
   "outputs": [
    {
     "ename": "AssertionError",
     "evalue": "Increment Time Mechanism is not defined in the spec",
     "output_type": "error",
     "traceback": [
      "\u001b[0;31m---------------------------------------------------------------------------\u001b[0m",
      "\u001b[0;31mAssertionError\u001b[0m                            Traceback (most recent call last)",
      "Cell \u001b[0;32mIn[1], line 15\u001b[0m\n\u001b[1;32m     13\u001b[0m \u001b[38;5;28;01mfrom\u001b[39;00m \u001b[38;5;21;01msrc\u001b[39;00m \u001b[38;5;28;01mimport\u001b[39;00m math_spec_json\n\u001b[1;32m     14\u001b[0m \u001b[38;5;28;01mfrom\u001b[39;00m \u001b[38;5;21;01mcopy\u001b[39;00m \u001b[38;5;28;01mimport\u001b[39;00m deepcopy\n\u001b[0;32m---> 15\u001b[0m ms \u001b[38;5;241m=\u001b[39m \u001b[43mload_from_json\u001b[49m\u001b[43m(\u001b[49m\u001b[43mdeepcopy\u001b[49m\u001b[43m(\u001b[49m\u001b[43mmath_spec_json\u001b[49m\u001b[43m)\u001b[49m\u001b[43m,\u001b[49m\u001b[43m \u001b[49m\u001b[43mspec_path\u001b[49m\u001b[38;5;241;43m=\u001b[39;49m\u001b[38;5;124;43m\"\u001b[39;49m\u001b[38;5;124;43m../src\u001b[39;49m\u001b[38;5;124;43m\"\u001b[39;49m\u001b[43m)\u001b[49m\n",
      "File \u001b[0;32m~/Dropbox/BlockScience/MSML/src/math_spec_mapping/Load/load.py:61\u001b[0m, in \u001b[0;36mload_from_json\u001b[0;34m(json, spec_path)\u001b[0m\n\u001b[1;32m     58\u001b[0m     \u001b[38;5;28;01mfor\u001b[39;00m y \u001b[38;5;129;01min\u001b[39;00m ms[\u001b[38;5;124m\"\u001b[39m\u001b[38;5;124mStateful Metrics\u001b[39m\u001b[38;5;124m\"\u001b[39m][x]\u001b[38;5;241m.\u001b[39mmetrics:\n\u001b[1;32m     59\u001b[0m         stateful_metrics_map[y\u001b[38;5;241m.\u001b[39mname] \u001b[38;5;241m=\u001b[39m y\n\u001b[0;32m---> 61\u001b[0m action_transmission_channels \u001b[38;5;241m=\u001b[39m \u001b[43mload_wiring\u001b[49m\u001b[43m(\u001b[49m\u001b[43mms\u001b[49m\u001b[43m,\u001b[49m\u001b[43m \u001b[49m\u001b[43mjson\u001b[49m\u001b[43m)\u001b[49m\n\u001b[1;32m     62\u001b[0m load_action_transmission_channels(ms, action_transmission_channels)\n\u001b[1;32m     63\u001b[0m load_state_update_transmission_channels(ms, state_update_transmission_channels)\n",
      "File \u001b[0;32m~/Dropbox/BlockScience/MSML/src/math_spec_mapping/Load/wiring.py:100\u001b[0m, in \u001b[0;36mload_wiring\u001b[0;34m(ms, json)\u001b[0m\n\u001b[1;32m     98\u001b[0m     \u001b[38;5;28;01mfor\u001b[39;00m y \u001b[38;5;129;01min\u001b[39;00m wiring:\n\u001b[1;32m     99\u001b[0m         \u001b[38;5;28;01mfor\u001b[39;00m z \u001b[38;5;129;01min\u001b[39;00m y[\u001b[38;5;124m\"\u001b[39m\u001b[38;5;124mcomponents\u001b[39m\u001b[38;5;124m\"\u001b[39m]:\n\u001b[0;32m--> 100\u001b[0m             \u001b[38;5;28;01massert\u001b[39;00m (\n\u001b[1;32m    101\u001b[0m                 z \u001b[38;5;129;01min\u001b[39;00m ms[\u001b[38;5;124m\"\u001b[39m\u001b[38;5;124mBlocks\u001b[39m\u001b[38;5;124m\"\u001b[39m] \u001b[38;5;129;01mor\u001b[39;00m z \u001b[38;5;129;01min\u001b[39;00m names\n\u001b[1;32m    102\u001b[0m             ), \u001b[38;5;124m\"\u001b[39m\u001b[38;5;132;01m{}\u001b[39;00m\u001b[38;5;124m is not defined in the spec\u001b[39m\u001b[38;5;124m\"\u001b[39m\u001b[38;5;241m.\u001b[39mformat(z)\n\u001b[1;32m    103\u001b[0m     \u001b[38;5;28;01massert\u001b[39;00m \u001b[38;5;28mlen\u001b[39m(wiring) \u001b[38;5;241m==\u001b[39m \u001b[38;5;241m0\u001b[39m, \u001b[38;5;124m\"\u001b[39m\u001b[38;5;124mThere are circular references\u001b[39m\u001b[38;5;124m\"\u001b[39m\n\u001b[1;32m    104\u001b[0m action_transmission_channels \u001b[38;5;241m=\u001b[39m filter_atc(action_transmission_channels)\n",
      "\u001b[0;31mAssertionError\u001b[0m: Increment Time Mechanism is not defined in the spec"
     ]
    }
   ],
   "source": [
    "import sys\n",
    "import os\n",
    "\n",
    "sys.path.append(os.path.abspath('..'))\n",
    "\n",
    "\n",
    "#from math_spec_mapping import load_from_json, write_all_markdown_reports, write_spec_tree, write_overview\n",
    "\n",
    "# For development purposes\n",
    "sys.path.append(os.path.abspath('../..'))\n",
    "from MSML.src.math_spec_mapping import (load_from_json, write_all_markdown_reports, write_spec_tree, write_overview, load_spec_tree)\n",
    "\n",
    "from src import math_spec_json\n",
    "from copy import deepcopy\n",
    "ms = load_from_json(deepcopy(math_spec_json), spec_path=\"../src\")"
   ]
  },
  {
   "cell_type": "markdown",
   "metadata": {},
   "source": [
    "## Obsidian Spec Writing\n",
    "\n",
    "- Given a folder specified in the `write_folder`, we will write a full obsidian vault\n",
    "- The `write_all_markdown_reports` function has an option of `clear_folders` which decides whether or not to delete any folders in there before running\n",
    "    - This might be turned off if you have a scaffold that you are iteratively overwriting as you create the MSML components\n",
    "- The `write_spec_tree` function creates a spec tree within the Obsidian respository and the `linking` determines whether wiki links should be added to components\n",
    "- The `write_overview` function writes out a README file with the specification tree by taking in the math spec object, a heading name for the repository, a path to write to, and finally a base folder for the base README (there is also an option to directly pass a string)."
   ]
  },
  {
   "cell_type": "code",
   "execution_count": 2,
   "metadata": {},
   "outputs": [],
   "source": [
    "write_folder = \"../reports/obsidian\"\n",
    "\n",
    "write_all_markdown_reports(ms, write_folder, clear_folders=False)\n",
    "write_spec_tree(ms, path=write_folder, linking=True)\n",
    "write_overview(ms, \"MSML Template\", \"../README.md\", base_folder=\"../README-Base.md\")"
   ]
  }
 ],
 "metadata": {
  "kernelspec": {
   "display_name": "MSML",
   "language": "python",
   "name": "python3"
  },
  "language_info": {
   "codemirror_mode": {
    "name": "ipython",
    "version": 3
   },
   "file_extension": ".py",
   "mimetype": "text/x-python",
   "name": "python",
   "nbconvert_exporter": "python",
   "pygments_lexer": "ipython3",
   "version": "3.9.19"
  }
 },
 "nbformat": 4,
 "nbformat_minor": 2
}
